{
 "cells": [
  {
   "cell_type": "code",
   "execution_count": 1,
   "metadata": {
    "collapsed": true
   },
   "outputs": [],
   "source": [
    "%matplotlib inline\n",
    "import warnings\n",
    "warnings.filterwarnings('ignore')\n",
    "import numpy as np\n",
    "import pandas as pd\n",
    "import matplotlib.pyplot as plt\n",
    "from geopy.distance import vincenty\n",
    "from sklearn.model_selection import train_test_split\n",
    "from sklearn.ensemble import RandomForestRegressor\n",
    "from sklearn.ensemble import ExtraTreesRegressor\n",
    "from sklearn import metrics\n",
    "import seaborn as sns\n",
    "from sklearn import model_selection"
   ]
  },
  {
   "cell_type": "code",
   "execution_count": 2,
   "metadata": {
    "collapsed": true
   },
   "outputs": [],
   "source": [
    "#Always call fit on the estimator before invoking this method. \n",
    "def importances(model, col_array, title): \n",
    "    # Calculate the feature ranking - Top 10 \n",
    "    importances = model.feature_importances_ \n",
    "    indices = np.argsort(importances)[::-1]\n",
    "    print(\"Top Important Features\\n\", title)\n",
    "    #for f in range(col_array.shape[1]-1): \n",
    "    for f in range(10): \n",
    "        print(\"%d. %s (%f)\" % (f + 1, col_array.columns[indices[f]], importances[indices[f]]))\n",
    "        \n",
    "    #Mean Feature Importance \n",
    "    print(\"\\nMean Feature Importance \", np.mean(importances))\n",
    "    #Plot the feature importances of the forest \n",
    "    indices=indices[:10]\n",
    "    plt.figure()\n",
    "    plt.title(title+\" Top 10 Feature importances\")\n",
    "    plt.bar(range(10), importances[indices], color=\"gr\", align=\"center\")\n",
    "    plt.xticks(range(10), col_array.columns[indices], fontsize=8, rotation=90)\n",
    "    plt.xlim([-1, 10])\n",
    "    plt.show()"
   ]
  },
  {
   "cell_type": "markdown",
   "metadata": {},
   "source": [
    "### Load train and test data"
   ]
  },
  {
   "cell_type": "code",
   "execution_count": 3,
   "metadata": {
    "collapsed": true
   },
   "outputs": [],
   "source": [
    "# load train and test data\n",
    "df_mess_train = pd.read_csv('mess_train_list.csv')\n",
    "df_mess_test = pd.read_csv('mess_test_list.csv')\n",
    "pos_train = pd.read_csv('pos_train_list.csv')"
   ]
  },
  {
   "cell_type": "code",
   "execution_count": 4,
   "metadata": {},
   "outputs": [
    {
     "data": {
      "text/html": [
       "<div>\n",
       "<style scoped>\n",
       "    .dataframe tbody tr th:only-of-type {\n",
       "        vertical-align: middle;\n",
       "    }\n",
       "\n",
       "    .dataframe tbody tr th {\n",
       "        vertical-align: top;\n",
       "    }\n",
       "\n",
       "    .dataframe thead th {\n",
       "        text-align: right;\n",
       "    }\n",
       "</style>\n",
       "<table border=\"1\" class=\"dataframe\">\n",
       "  <thead>\n",
       "    <tr style=\"text-align: right;\">\n",
       "      <th></th>\n",
       "      <th>messid</th>\n",
       "      <th>bsid</th>\n",
       "      <th>did</th>\n",
       "      <th>nseq</th>\n",
       "      <th>rssi</th>\n",
       "      <th>time_ux</th>\n",
       "      <th>bs_lat</th>\n",
       "      <th>bs_lng</th>\n",
       "    </tr>\n",
       "  </thead>\n",
       "  <tbody>\n",
       "    <tr>\n",
       "      <th>0</th>\n",
       "      <td>573bf1d9864fce1a9af8c5c9</td>\n",
       "      <td>2841</td>\n",
       "      <td>473335.0</td>\n",
       "      <td>0.5</td>\n",
       "      <td>-121.500000</td>\n",
       "      <td>1.463546e+12</td>\n",
       "      <td>39.617794</td>\n",
       "      <td>-104.954917</td>\n",
       "    </tr>\n",
       "    <tr>\n",
       "      <th>1</th>\n",
       "      <td>573bf1d9864fce1a9af8c5c9</td>\n",
       "      <td>3526</td>\n",
       "      <td>473335.0</td>\n",
       "      <td>2.0</td>\n",
       "      <td>-125.000000</td>\n",
       "      <td>1.463546e+12</td>\n",
       "      <td>39.677251</td>\n",
       "      <td>-104.952721</td>\n",
       "    </tr>\n",
       "    <tr>\n",
       "      <th>2</th>\n",
       "      <td>573bf3533e952e19126b256a</td>\n",
       "      <td>2605</td>\n",
       "      <td>473335.0</td>\n",
       "      <td>1.0</td>\n",
       "      <td>-134.000000</td>\n",
       "      <td>1.463547e+12</td>\n",
       "      <td>39.612745</td>\n",
       "      <td>-105.008827</td>\n",
       "    </tr>\n",
       "    <tr>\n",
       "      <th>3</th>\n",
       "      <td>573c0cd0f0fe6e735a699b93</td>\n",
       "      <td>2610</td>\n",
       "      <td>473953.0</td>\n",
       "      <td>2.0</td>\n",
       "      <td>-132.000000</td>\n",
       "      <td>1.463553e+12</td>\n",
       "      <td>39.797969</td>\n",
       "      <td>-105.073460</td>\n",
       "    </tr>\n",
       "    <tr>\n",
       "      <th>4</th>\n",
       "      <td>573c0cd0f0fe6e735a699b93</td>\n",
       "      <td>3574</td>\n",
       "      <td>473953.0</td>\n",
       "      <td>1.0</td>\n",
       "      <td>-120.000000</td>\n",
       "      <td>1.463553e+12</td>\n",
       "      <td>39.723151</td>\n",
       "      <td>-104.956216</td>\n",
       "    </tr>\n",
       "    <tr>\n",
       "      <th>5</th>\n",
       "      <td>573c0cd0f0fe6e735a699b93</td>\n",
       "      <td>8474</td>\n",
       "      <td>473953.0</td>\n",
       "      <td>2.0</td>\n",
       "      <td>-100.000000</td>\n",
       "      <td>1.463553e+12</td>\n",
       "      <td>39.732045</td>\n",
       "      <td>-104.973651</td>\n",
       "    </tr>\n",
       "    <tr>\n",
       "      <th>6</th>\n",
       "      <td>573c1272f0fe6e735a6cb8bd</td>\n",
       "      <td>1859</td>\n",
       "      <td>476512.0</td>\n",
       "      <td>1.0</td>\n",
       "      <td>-123.333333</td>\n",
       "      <td>1.463555e+12</td>\n",
       "      <td>39.704887</td>\n",
       "      <td>-105.016392</td>\n",
       "    </tr>\n",
       "    <tr>\n",
       "      <th>7</th>\n",
       "      <td>573c1272f0fe6e735a6cb8bd</td>\n",
       "      <td>2605</td>\n",
       "      <td>476512.0</td>\n",
       "      <td>1.0</td>\n",
       "      <td>-129.666667</td>\n",
       "      <td>1.463555e+12</td>\n",
       "      <td>39.612745</td>\n",
       "      <td>-105.008827</td>\n",
       "    </tr>\n",
       "    <tr>\n",
       "      <th>8</th>\n",
       "      <td>573c1272f0fe6e735a6cb8bd</td>\n",
       "      <td>3025</td>\n",
       "      <td>476512.0</td>\n",
       "      <td>1.0</td>\n",
       "      <td>-123.666667</td>\n",
       "      <td>1.463555e+12</td>\n",
       "      <td>39.654682</td>\n",
       "      <td>-105.043685</td>\n",
       "    </tr>\n",
       "    <tr>\n",
       "      <th>9</th>\n",
       "      <td>573c1272f0fe6e735a6cb8bd</td>\n",
       "      <td>8082</td>\n",
       "      <td>476512.0</td>\n",
       "      <td>1.0</td>\n",
       "      <td>-133.000000</td>\n",
       "      <td>1.463555e+12</td>\n",
       "      <td>39.495225</td>\n",
       "      <td>-105.053109</td>\n",
       "    </tr>\n",
       "  </tbody>\n",
       "</table>\n",
       "</div>"
      ],
      "text/plain": [
       "                     messid  bsid       did  nseq        rssi       time_ux  \\\n",
       "0  573bf1d9864fce1a9af8c5c9  2841  473335.0   0.5 -121.500000  1.463546e+12   \n",
       "1  573bf1d9864fce1a9af8c5c9  3526  473335.0   2.0 -125.000000  1.463546e+12   \n",
       "2  573bf3533e952e19126b256a  2605  473335.0   1.0 -134.000000  1.463547e+12   \n",
       "3  573c0cd0f0fe6e735a699b93  2610  473953.0   2.0 -132.000000  1.463553e+12   \n",
       "4  573c0cd0f0fe6e735a699b93  3574  473953.0   1.0 -120.000000  1.463553e+12   \n",
       "5  573c0cd0f0fe6e735a699b93  8474  473953.0   2.0 -100.000000  1.463553e+12   \n",
       "6  573c1272f0fe6e735a6cb8bd  1859  476512.0   1.0 -123.333333  1.463555e+12   \n",
       "7  573c1272f0fe6e735a6cb8bd  2605  476512.0   1.0 -129.666667  1.463555e+12   \n",
       "8  573c1272f0fe6e735a6cb8bd  3025  476512.0   1.0 -123.666667  1.463555e+12   \n",
       "9  573c1272f0fe6e735a6cb8bd  8082  476512.0   1.0 -133.000000  1.463555e+12   \n",
       "\n",
       "      bs_lat      bs_lng  \n",
       "0  39.617794 -104.954917  \n",
       "1  39.677251 -104.952721  \n",
       "2  39.612745 -105.008827  \n",
       "3  39.797969 -105.073460  \n",
       "4  39.723151 -104.956216  \n",
       "5  39.732045 -104.973651  \n",
       "6  39.704887 -105.016392  \n",
       "7  39.612745 -105.008827  \n",
       "8  39.654682 -105.043685  \n",
       "9  39.495225 -105.053109  "
      ]
     },
     "execution_count": 4,
     "metadata": {},
     "output_type": "execute_result"
    }
   ],
   "source": [
    "df_mess_train.head(10)"
   ]
  },
  {
   "cell_type": "code",
   "execution_count": 5,
   "metadata": {},
   "outputs": [
    {
     "data": {
      "text/html": [
       "<div>\n",
       "<style scoped>\n",
       "    .dataframe tbody tr th:only-of-type {\n",
       "        vertical-align: middle;\n",
       "    }\n",
       "\n",
       "    .dataframe tbody tr th {\n",
       "        vertical-align: top;\n",
       "    }\n",
       "\n",
       "    .dataframe thead th {\n",
       "        text-align: right;\n",
       "    }\n",
       "</style>\n",
       "<table border=\"1\" class=\"dataframe\">\n",
       "  <thead>\n",
       "    <tr style=\"text-align: right;\">\n",
       "      <th></th>\n",
       "      <th>lat</th>\n",
       "      <th>lng</th>\n",
       "    </tr>\n",
       "  </thead>\n",
       "  <tbody>\n",
       "    <tr>\n",
       "      <th>0</th>\n",
       "      <td>39.606690</td>\n",
       "      <td>-104.958490</td>\n",
       "    </tr>\n",
       "    <tr>\n",
       "      <th>1</th>\n",
       "      <td>39.606690</td>\n",
       "      <td>-104.958490</td>\n",
       "    </tr>\n",
       "    <tr>\n",
       "      <th>2</th>\n",
       "      <td>39.637741</td>\n",
       "      <td>-104.958554</td>\n",
       "    </tr>\n",
       "    <tr>\n",
       "      <th>3</th>\n",
       "      <td>39.730417</td>\n",
       "      <td>-104.968940</td>\n",
       "    </tr>\n",
       "    <tr>\n",
       "      <th>4</th>\n",
       "      <td>39.730417</td>\n",
       "      <td>-104.968940</td>\n",
       "    </tr>\n",
       "    <tr>\n",
       "      <th>5</th>\n",
       "      <td>39.730417</td>\n",
       "      <td>-104.968940</td>\n",
       "    </tr>\n",
       "    <tr>\n",
       "      <th>6</th>\n",
       "      <td>39.693102</td>\n",
       "      <td>-105.006995</td>\n",
       "    </tr>\n",
       "    <tr>\n",
       "      <th>7</th>\n",
       "      <td>39.693102</td>\n",
       "      <td>-105.006995</td>\n",
       "    </tr>\n",
       "    <tr>\n",
       "      <th>8</th>\n",
       "      <td>39.693102</td>\n",
       "      <td>-105.006995</td>\n",
       "    </tr>\n",
       "    <tr>\n",
       "      <th>9</th>\n",
       "      <td>39.693102</td>\n",
       "      <td>-105.006995</td>\n",
       "    </tr>\n",
       "  </tbody>\n",
       "</table>\n",
       "</div>"
      ],
      "text/plain": [
       "         lat         lng\n",
       "0  39.606690 -104.958490\n",
       "1  39.606690 -104.958490\n",
       "2  39.637741 -104.958554\n",
       "3  39.730417 -104.968940\n",
       "4  39.730417 -104.968940\n",
       "5  39.730417 -104.968940\n",
       "6  39.693102 -105.006995\n",
       "7  39.693102 -105.006995\n",
       "8  39.693102 -105.006995\n",
       "9  39.693102 -105.006995"
      ]
     },
     "execution_count": 5,
     "metadata": {},
     "output_type": "execute_result"
    }
   ],
   "source": [
    "pos_train.head(10)"
   ]
  },
  {
   "cell_type": "code",
   "execution_count": 6,
   "metadata": {
    "collapsed": true
   },
   "outputs": [],
   "source": [
    "listOfBs = np.union1d(np.unique(df_mess_train['bsid']), np.unique(df_mess_test['bsid'])) # determine all Base stations that received at least 1 message"
   ]
  },
  {
   "cell_type": "code",
   "execution_count": 7,
   "metadata": {},
   "outputs": [
    {
     "data": {
      "text/plain": [
       "259"
      ]
     },
     "execution_count": 7,
     "metadata": {},
     "output_type": "execute_result"
    }
   ],
   "source": [
    "len(listOfBs)"
   ]
  },
  {
   "cell_type": "code",
   "execution_count": 8,
   "metadata": {},
   "outputs": [
    {
     "data": {
      "text/html": [
       "<div>\n",
       "<style scoped>\n",
       "    .dataframe tbody tr th:only-of-type {\n",
       "        vertical-align: middle;\n",
       "    }\n",
       "\n",
       "    .dataframe tbody tr th {\n",
       "        vertical-align: top;\n",
       "    }\n",
       "\n",
       "    .dataframe thead th {\n",
       "        text-align: right;\n",
       "    }\n",
       "</style>\n",
       "<table border=\"1\" class=\"dataframe\">\n",
       "  <thead>\n",
       "    <tr style=\"text-align: right;\">\n",
       "      <th></th>\n",
       "      <th>messid</th>\n",
       "      <th>bsid</th>\n",
       "      <th>did</th>\n",
       "      <th>nseq</th>\n",
       "      <th>rssi</th>\n",
       "      <th>time_ux</th>\n",
       "      <th>bs_lat</th>\n",
       "      <th>bs_lng</th>\n",
       "      <th>lat</th>\n",
       "      <th>lng</th>\n",
       "    </tr>\n",
       "  </thead>\n",
       "  <tbody>\n",
       "    <tr>\n",
       "      <th>0</th>\n",
       "      <td>573bf1d9864fce1a9af8c5c9</td>\n",
       "      <td>2841</td>\n",
       "      <td>473335.0</td>\n",
       "      <td>0.5</td>\n",
       "      <td>-121.500000</td>\n",
       "      <td>1.463546e+12</td>\n",
       "      <td>39.617794</td>\n",
       "      <td>-104.954917</td>\n",
       "      <td>39.606690</td>\n",
       "      <td>-104.958490</td>\n",
       "    </tr>\n",
       "    <tr>\n",
       "      <th>1</th>\n",
       "      <td>573bf1d9864fce1a9af8c5c9</td>\n",
       "      <td>3526</td>\n",
       "      <td>473335.0</td>\n",
       "      <td>2.0</td>\n",
       "      <td>-125.000000</td>\n",
       "      <td>1.463546e+12</td>\n",
       "      <td>39.677251</td>\n",
       "      <td>-104.952721</td>\n",
       "      <td>39.606690</td>\n",
       "      <td>-104.958490</td>\n",
       "    </tr>\n",
       "    <tr>\n",
       "      <th>2</th>\n",
       "      <td>573bf3533e952e19126b256a</td>\n",
       "      <td>2605</td>\n",
       "      <td>473335.0</td>\n",
       "      <td>1.0</td>\n",
       "      <td>-134.000000</td>\n",
       "      <td>1.463547e+12</td>\n",
       "      <td>39.612745</td>\n",
       "      <td>-105.008827</td>\n",
       "      <td>39.637741</td>\n",
       "      <td>-104.958554</td>\n",
       "    </tr>\n",
       "    <tr>\n",
       "      <th>3</th>\n",
       "      <td>573c0cd0f0fe6e735a699b93</td>\n",
       "      <td>2610</td>\n",
       "      <td>473953.0</td>\n",
       "      <td>2.0</td>\n",
       "      <td>-132.000000</td>\n",
       "      <td>1.463553e+12</td>\n",
       "      <td>39.797969</td>\n",
       "      <td>-105.073460</td>\n",
       "      <td>39.730417</td>\n",
       "      <td>-104.968940</td>\n",
       "    </tr>\n",
       "    <tr>\n",
       "      <th>4</th>\n",
       "      <td>573c0cd0f0fe6e735a699b93</td>\n",
       "      <td>3574</td>\n",
       "      <td>473953.0</td>\n",
       "      <td>1.0</td>\n",
       "      <td>-120.000000</td>\n",
       "      <td>1.463553e+12</td>\n",
       "      <td>39.723151</td>\n",
       "      <td>-104.956216</td>\n",
       "      <td>39.730417</td>\n",
       "      <td>-104.968940</td>\n",
       "    </tr>\n",
       "    <tr>\n",
       "      <th>5</th>\n",
       "      <td>573c0cd0f0fe6e735a699b93</td>\n",
       "      <td>8474</td>\n",
       "      <td>473953.0</td>\n",
       "      <td>2.0</td>\n",
       "      <td>-100.000000</td>\n",
       "      <td>1.463553e+12</td>\n",
       "      <td>39.732045</td>\n",
       "      <td>-104.973651</td>\n",
       "      <td>39.730417</td>\n",
       "      <td>-104.968940</td>\n",
       "    </tr>\n",
       "    <tr>\n",
       "      <th>6</th>\n",
       "      <td>573c1272f0fe6e735a6cb8bd</td>\n",
       "      <td>1859</td>\n",
       "      <td>476512.0</td>\n",
       "      <td>1.0</td>\n",
       "      <td>-123.333333</td>\n",
       "      <td>1.463555e+12</td>\n",
       "      <td>39.704887</td>\n",
       "      <td>-105.016392</td>\n",
       "      <td>39.693102</td>\n",
       "      <td>-105.006995</td>\n",
       "    </tr>\n",
       "    <tr>\n",
       "      <th>7</th>\n",
       "      <td>573c1272f0fe6e735a6cb8bd</td>\n",
       "      <td>2605</td>\n",
       "      <td>476512.0</td>\n",
       "      <td>1.0</td>\n",
       "      <td>-129.666667</td>\n",
       "      <td>1.463555e+12</td>\n",
       "      <td>39.612745</td>\n",
       "      <td>-105.008827</td>\n",
       "      <td>39.693102</td>\n",
       "      <td>-105.006995</td>\n",
       "    </tr>\n",
       "    <tr>\n",
       "      <th>8</th>\n",
       "      <td>573c1272f0fe6e735a6cb8bd</td>\n",
       "      <td>3025</td>\n",
       "      <td>476512.0</td>\n",
       "      <td>1.0</td>\n",
       "      <td>-123.666667</td>\n",
       "      <td>1.463555e+12</td>\n",
       "      <td>39.654682</td>\n",
       "      <td>-105.043685</td>\n",
       "      <td>39.693102</td>\n",
       "      <td>-105.006995</td>\n",
       "    </tr>\n",
       "    <tr>\n",
       "      <th>9</th>\n",
       "      <td>573c1272f0fe6e735a6cb8bd</td>\n",
       "      <td>8082</td>\n",
       "      <td>476512.0</td>\n",
       "      <td>1.0</td>\n",
       "      <td>-133.000000</td>\n",
       "      <td>1.463555e+12</td>\n",
       "      <td>39.495225</td>\n",
       "      <td>-105.053109</td>\n",
       "      <td>39.693102</td>\n",
       "      <td>-105.006995</td>\n",
       "    </tr>\n",
       "  </tbody>\n",
       "</table>\n",
       "</div>"
      ],
      "text/plain": [
       "                     messid  bsid       did  nseq        rssi       time_ux  \\\n",
       "0  573bf1d9864fce1a9af8c5c9  2841  473335.0   0.5 -121.500000  1.463546e+12   \n",
       "1  573bf1d9864fce1a9af8c5c9  3526  473335.0   2.0 -125.000000  1.463546e+12   \n",
       "2  573bf3533e952e19126b256a  2605  473335.0   1.0 -134.000000  1.463547e+12   \n",
       "3  573c0cd0f0fe6e735a699b93  2610  473953.0   2.0 -132.000000  1.463553e+12   \n",
       "4  573c0cd0f0fe6e735a699b93  3574  473953.0   1.0 -120.000000  1.463553e+12   \n",
       "5  573c0cd0f0fe6e735a699b93  8474  473953.0   2.0 -100.000000  1.463553e+12   \n",
       "6  573c1272f0fe6e735a6cb8bd  1859  476512.0   1.0 -123.333333  1.463555e+12   \n",
       "7  573c1272f0fe6e735a6cb8bd  2605  476512.0   1.0 -129.666667  1.463555e+12   \n",
       "8  573c1272f0fe6e735a6cb8bd  3025  476512.0   1.0 -123.666667  1.463555e+12   \n",
       "9  573c1272f0fe6e735a6cb8bd  8082  476512.0   1.0 -133.000000  1.463555e+12   \n",
       "\n",
       "      bs_lat      bs_lng        lat         lng  \n",
       "0  39.617794 -104.954917  39.606690 -104.958490  \n",
       "1  39.677251 -104.952721  39.606690 -104.958490  \n",
       "2  39.612745 -105.008827  39.637741 -104.958554  \n",
       "3  39.797969 -105.073460  39.730417 -104.968940  \n",
       "4  39.723151 -104.956216  39.730417 -104.968940  \n",
       "5  39.732045 -104.973651  39.730417 -104.968940  \n",
       "6  39.704887 -105.016392  39.693102 -105.006995  \n",
       "7  39.612745 -105.008827  39.693102 -105.006995  \n",
       "8  39.654682 -105.043685  39.693102 -105.006995  \n",
       "9  39.495225 -105.053109  39.693102 -105.006995  "
      ]
     },
     "execution_count": 8,
     "metadata": {},
     "output_type": "execute_result"
    }
   ],
   "source": [
    "# Add Latitude and Longitude to the initial dataset\n",
    "df_mess_pos = df_mess_train.copy()\n",
    "df_mess_pos[['lat', 'lng']] = pos_train\n",
    "df_mess_pos.head(10)"
   ]
  },
  {
   "cell_type": "code",
   "execution_count": 16,
   "metadata": {},
   "outputs": [
    {
     "name": "stdout",
     "output_type": "stream",
     "text": [
      "27 stations are ouliers:\n",
      " [ 1092  1594  1661  1743  1772  1796  1854  2293  2707  2943  4123  4129\n",
      "  4156  4959  4987  4993  7248  8355  8449  8451  8560  9784 10151 10162\n",
      " 10999 11007 11951]\n"
     ]
    }
   ],
   "source": [
    "# Select all the outlier stations\n",
    "outliers_bsid = np.unique(df_mess_pos[df_mess_pos['bs_lat'] >= 50]['bsid'])\n",
    "print(outliers_bsid.shape[0], \"stations are ouliers:\\n\", outliers_bsid)\n",
    "outliers_bsid_df = pd.DataFrame(outliers_bsid)\n",
    "outliers_bsid_df.columns = ['bsid']"
   ]
  },
  {
   "cell_type": "code",
   "execution_count": 24,
   "metadata": {
    "collapsed": true
   },
   "outputs": [],
   "source": [
    "df_mess_pos_sort = df_mess_pos.copy()\n",
    "df_mess_pos_sort = df_mess_pos_sort.sort_values(by='bsid', ascending=True)"
   ]
  },
  {
   "cell_type": "code",
   "execution_count": 25,
   "metadata": {},
   "outputs": [
    {
     "data": {
      "text/html": [
       "<div>\n",
       "<style scoped>\n",
       "    .dataframe tbody tr th:only-of-type {\n",
       "        vertical-align: middle;\n",
       "    }\n",
       "\n",
       "    .dataframe tbody tr th {\n",
       "        vertical-align: top;\n",
       "    }\n",
       "\n",
       "    .dataframe thead th {\n",
       "        text-align: right;\n",
       "    }\n",
       "</style>\n",
       "<table border=\"1\" class=\"dataframe\">\n",
       "  <thead>\n",
       "    <tr style=\"text-align: right;\">\n",
       "      <th></th>\n",
       "      <th>messid</th>\n",
       "      <th>bsid</th>\n",
       "      <th>did</th>\n",
       "      <th>nseq</th>\n",
       "      <th>rssi</th>\n",
       "      <th>time_ux</th>\n",
       "      <th>bs_lat</th>\n",
       "      <th>bs_lng</th>\n",
       "      <th>lat</th>\n",
       "      <th>lng</th>\n",
       "    </tr>\n",
       "  </thead>\n",
       "  <tbody>\n",
       "    <tr>\n",
       "      <th>0</th>\n",
       "      <td>582c8fa4cf554f7e3aad4ea6</td>\n",
       "      <td>1092</td>\n",
       "      <td>476829.0</td>\n",
       "      <td>1.0</td>\n",
       "      <td>-141.000000</td>\n",
       "      <td>1.479315e+12</td>\n",
       "      <td>64.3</td>\n",
       "      <td>-68.5</td>\n",
       "      <td>39.706525</td>\n",
       "      <td>-105.018891</td>\n",
       "    </tr>\n",
       "    <tr>\n",
       "      <th>1</th>\n",
       "      <td>583d9df7cf554f7e3a38e3c0</td>\n",
       "      <td>1092</td>\n",
       "      <td>476829.0</td>\n",
       "      <td>2.0</td>\n",
       "      <td>-140.000000</td>\n",
       "      <td>1.480433e+12</td>\n",
       "      <td>64.3</td>\n",
       "      <td>-68.5</td>\n",
       "      <td>39.702498</td>\n",
       "      <td>-105.018795</td>\n",
       "    </tr>\n",
       "    <tr>\n",
       "      <th>2</th>\n",
       "      <td>582c888ecf554f7e3aa7932b</td>\n",
       "      <td>1092</td>\n",
       "      <td>476829.0</td>\n",
       "      <td>1.0</td>\n",
       "      <td>-141.000000</td>\n",
       "      <td>1.479314e+12</td>\n",
       "      <td>64.3</td>\n",
       "      <td>-68.5</td>\n",
       "      <td>39.704462</td>\n",
       "      <td>-105.018355</td>\n",
       "    </tr>\n",
       "    <tr>\n",
       "      <th>3</th>\n",
       "      <td>583d7c12cf554f7e3a1b896a</td>\n",
       "      <td>1092</td>\n",
       "      <td>476829.0</td>\n",
       "      <td>0.5</td>\n",
       "      <td>-141.000000</td>\n",
       "      <td>1.480424e+12</td>\n",
       "      <td>64.3</td>\n",
       "      <td>-68.5</td>\n",
       "      <td>39.706376</td>\n",
       "      <td>-105.019207</td>\n",
       "    </tr>\n",
       "    <tr>\n",
       "      <th>4</th>\n",
       "      <td>583d79cae541cd03e7baf244</td>\n",
       "      <td>1092</td>\n",
       "      <td>476829.0</td>\n",
       "      <td>1.0</td>\n",
       "      <td>-140.666667</td>\n",
       "      <td>1.480424e+12</td>\n",
       "      <td>64.3</td>\n",
       "      <td>-68.5</td>\n",
       "      <td>39.704704</td>\n",
       "      <td>-105.020228</td>\n",
       "    </tr>\n",
       "    <tr>\n",
       "      <th>5</th>\n",
       "      <td>583d9911cf554f7e3a34b75b</td>\n",
       "      <td>1092</td>\n",
       "      <td>476829.0</td>\n",
       "      <td>0.0</td>\n",
       "      <td>-140.000000</td>\n",
       "      <td>1.480432e+12</td>\n",
       "      <td>64.3</td>\n",
       "      <td>-68.5</td>\n",
       "      <td>39.706583</td>\n",
       "      <td>-105.018979</td>\n",
       "    </tr>\n",
       "    <tr>\n",
       "      <th>6</th>\n",
       "      <td>583d8f7d12f1434b9c935604</td>\n",
       "      <td>1092</td>\n",
       "      <td>476829.0</td>\n",
       "      <td>1.0</td>\n",
       "      <td>-141.000000</td>\n",
       "      <td>1.480429e+12</td>\n",
       "      <td>64.3</td>\n",
       "      <td>-68.5</td>\n",
       "      <td>39.706873</td>\n",
       "      <td>-105.018876</td>\n",
       "    </tr>\n",
       "    <tr>\n",
       "      <th>7</th>\n",
       "      <td>582c8619e541cd03e7437b1c</td>\n",
       "      <td>1092</td>\n",
       "      <td>476829.0</td>\n",
       "      <td>1.5</td>\n",
       "      <td>-140.000000</td>\n",
       "      <td>1.479313e+12</td>\n",
       "      <td>64.3</td>\n",
       "      <td>-68.5</td>\n",
       "      <td>39.706375</td>\n",
       "      <td>-105.018765</td>\n",
       "    </tr>\n",
       "    <tr>\n",
       "      <th>8</th>\n",
       "      <td>582c7ee4e541cd03e73d65d9</td>\n",
       "      <td>1092</td>\n",
       "      <td>476829.0</td>\n",
       "      <td>1.5</td>\n",
       "      <td>-141.000000</td>\n",
       "      <td>1.479311e+12</td>\n",
       "      <td>64.3</td>\n",
       "      <td>-68.5</td>\n",
       "      <td>39.706803</td>\n",
       "      <td>-105.018901</td>\n",
       "    </tr>\n",
       "    <tr>\n",
       "      <th>9</th>\n",
       "      <td>582c948e12f1434b9c1cd22f</td>\n",
       "      <td>1092</td>\n",
       "      <td>476829.0</td>\n",
       "      <td>1.0</td>\n",
       "      <td>-140.000000</td>\n",
       "      <td>1.479317e+12</td>\n",
       "      <td>64.3</td>\n",
       "      <td>-68.5</td>\n",
       "      <td>39.706741</td>\n",
       "      <td>-105.018975</td>\n",
       "    </tr>\n",
       "  </tbody>\n",
       "</table>\n",
       "</div>"
      ],
      "text/plain": [
       "                     messid  bsid       did  nseq        rssi       time_ux  \\\n",
       "0  582c8fa4cf554f7e3aad4ea6  1092  476829.0   1.0 -141.000000  1.479315e+12   \n",
       "1  583d9df7cf554f7e3a38e3c0  1092  476829.0   2.0 -140.000000  1.480433e+12   \n",
       "2  582c888ecf554f7e3aa7932b  1092  476829.0   1.0 -141.000000  1.479314e+12   \n",
       "3  583d7c12cf554f7e3a1b896a  1092  476829.0   0.5 -141.000000  1.480424e+12   \n",
       "4  583d79cae541cd03e7baf244  1092  476829.0   1.0 -140.666667  1.480424e+12   \n",
       "5  583d9911cf554f7e3a34b75b  1092  476829.0   0.0 -140.000000  1.480432e+12   \n",
       "6  583d8f7d12f1434b9c935604  1092  476829.0   1.0 -141.000000  1.480429e+12   \n",
       "7  582c8619e541cd03e7437b1c  1092  476829.0   1.5 -140.000000  1.479313e+12   \n",
       "8  582c7ee4e541cd03e73d65d9  1092  476829.0   1.5 -141.000000  1.479311e+12   \n",
       "9  582c948e12f1434b9c1cd22f  1092  476829.0   1.0 -140.000000  1.479317e+12   \n",
       "\n",
       "   bs_lat  bs_lng        lat         lng  \n",
       "0    64.3   -68.5  39.706525 -105.018891  \n",
       "1    64.3   -68.5  39.702498 -105.018795  \n",
       "2    64.3   -68.5  39.704462 -105.018355  \n",
       "3    64.3   -68.5  39.706376 -105.019207  \n",
       "4    64.3   -68.5  39.704704 -105.020228  \n",
       "5    64.3   -68.5  39.706583 -105.018979  \n",
       "6    64.3   -68.5  39.706873 -105.018876  \n",
       "7    64.3   -68.5  39.706375 -105.018765  \n",
       "8    64.3   -68.5  39.706803 -105.018901  \n",
       "9    64.3   -68.5  39.706741 -105.018975  "
      ]
     },
     "execution_count": 25,
     "metadata": {},
     "output_type": "execute_result"
    }
   ],
   "source": [
    "# Merge splited devices with full dataset\n",
    "# Train\n",
    "df_test_merged = df_mess_pos_sort.merge(outliers_bsid_df, on='bsid')\n",
    "df_test_merged.head(10)"
   ]
  },
  {
   "cell_type": "code",
   "execution_count": 26,
   "metadata": {},
   "outputs": [
    {
     "data": {
      "text/plain": [
       "(4389, 10)"
      ]
     },
     "execution_count": 26,
     "metadata": {},
     "output_type": "execute_result"
    }
   ],
   "source": [
    "df_test_merged.shape"
   ]
  },
  {
   "cell_type": "code",
   "execution_count": 31,
   "metadata": {
    "collapsed": true
   },
   "outputs": [],
   "source": [
    "all_train_bsid = np.unique(df_mess_pos['bsid'])"
   ]
  },
  {
   "cell_type": "code",
   "execution_count": 33,
   "metadata": {},
   "outputs": [
    {
     "data": {
      "text/plain": [
       "(251,)"
      ]
     },
     "execution_count": 33,
     "metadata": {},
     "output_type": "execute_result"
    }
   ],
   "source": []
  },
  {
   "cell_type": "code",
   "execution_count": 29,
   "metadata": {},
   "outputs": [
    {
     "data": {
      "text/html": [
       "<div>\n",
       "<style scoped>\n",
       "    .dataframe tbody tr th:only-of-type {\n",
       "        vertical-align: middle;\n",
       "    }\n",
       "\n",
       "    .dataframe tbody tr th {\n",
       "        vertical-align: top;\n",
       "    }\n",
       "\n",
       "    .dataframe thead th {\n",
       "        text-align: right;\n",
       "    }\n",
       "</style>\n",
       "<table border=\"1\" class=\"dataframe\">\n",
       "  <thead>\n",
       "    <tr style=\"text-align: right;\">\n",
       "      <th></th>\n",
       "      <th>messid</th>\n",
       "      <th>bsid</th>\n",
       "      <th>did</th>\n",
       "      <th>nseq</th>\n",
       "      <th>rssi</th>\n",
       "      <th>time_ux</th>\n",
       "      <th>bs_lat</th>\n",
       "      <th>bs_lng</th>\n",
       "      <th>lat</th>\n",
       "      <th>lng</th>\n",
       "    </tr>\n",
       "  </thead>\n",
       "  <tbody>\n",
       "    <tr>\n",
       "      <th>0</th>\n",
       "      <td>5822597ecf554f7e3a4d60a2</td>\n",
       "      <td>879</td>\n",
       "      <td>477201.0</td>\n",
       "      <td>1.0</td>\n",
       "      <td>-132.666667</td>\n",
       "      <td>1.478646e+12</td>\n",
       "      <td>39.739013</td>\n",
       "      <td>-105.392793</td>\n",
       "      <td>39.876481</td>\n",
       "      <td>-105.262660</td>\n",
       "    </tr>\n",
       "    <tr>\n",
       "      <th>1</th>\n",
       "      <td>5822df26cf554f7e3aa2e56e</td>\n",
       "      <td>911</td>\n",
       "      <td>474192.0</td>\n",
       "      <td>1.0</td>\n",
       "      <td>-122.000000</td>\n",
       "      <td>1.478680e+12</td>\n",
       "      <td>42.324279</td>\n",
       "      <td>-107.159505</td>\n",
       "      <td>42.452279</td>\n",
       "      <td>-107.050011</td>\n",
       "    </tr>\n",
       "    <tr>\n",
       "      <th>2</th>\n",
       "      <td>5822df26cf554f7e3aa2e56e</td>\n",
       "      <td>921</td>\n",
       "      <td>474192.0</td>\n",
       "      <td>0.0</td>\n",
       "      <td>-130.000000</td>\n",
       "      <td>1.478680e+12</td>\n",
       "      <td>42.131222</td>\n",
       "      <td>-107.008741</td>\n",
       "      <td>42.452279</td>\n",
       "      <td>-107.050011</td>\n",
       "    </tr>\n",
       "    <tr>\n",
       "      <th>3</th>\n",
       "      <td>57aae6ad12f1434591dc023d</td>\n",
       "      <td>944</td>\n",
       "      <td>476256.0</td>\n",
       "      <td>1.0</td>\n",
       "      <td>-133.000000</td>\n",
       "      <td>1.470818e+12</td>\n",
       "      <td>41.424900</td>\n",
       "      <td>-106.143919</td>\n",
       "      <td>41.053086</td>\n",
       "      <td>-105.914665</td>\n",
       "    </tr>\n",
       "    <tr>\n",
       "      <th>4</th>\n",
       "      <td>5835da9ce541cd03e70b29a7</td>\n",
       "      <td>944</td>\n",
       "      <td>476889.0</td>\n",
       "      <td>2.0</td>\n",
       "      <td>-137.000000</td>\n",
       "      <td>1.479924e+12</td>\n",
       "      <td>41.424900</td>\n",
       "      <td>-106.143919</td>\n",
       "      <td>40.840967</td>\n",
       "      <td>-105.911902</td>\n",
       "    </tr>\n",
       "    <tr>\n",
       "      <th>5</th>\n",
       "      <td>58302f58e541cd03e7edeb7b</td>\n",
       "      <td>944</td>\n",
       "      <td>476896.0</td>\n",
       "      <td>1.0</td>\n",
       "      <td>-122.000000</td>\n",
       "      <td>1.479553e+12</td>\n",
       "      <td>41.424900</td>\n",
       "      <td>-106.143919</td>\n",
       "      <td>41.279237</td>\n",
       "      <td>-106.115996</td>\n",
       "    </tr>\n",
       "    <tr>\n",
       "      <th>6</th>\n",
       "      <td>57c55354cf554f465aa9941f</td>\n",
       "      <td>980</td>\n",
       "      <td>476598.0</td>\n",
       "      <td>0.5</td>\n",
       "      <td>-128.000000</td>\n",
       "      <td>1.472550e+12</td>\n",
       "      <td>38.997730</td>\n",
       "      <td>-104.684275</td>\n",
       "      <td>39.099739</td>\n",
       "      <td>-104.574992</td>\n",
       "    </tr>\n",
       "    <tr>\n",
       "      <th>7</th>\n",
       "      <td>57934f3fcf554f22c13640ce</td>\n",
       "      <td>980</td>\n",
       "      <td>476598.0</td>\n",
       "      <td>1.0</td>\n",
       "      <td>-120.000000</td>\n",
       "      <td>1.469272e+12</td>\n",
       "      <td>38.997730</td>\n",
       "      <td>-104.684275</td>\n",
       "      <td>39.094773</td>\n",
       "      <td>-104.631262</td>\n",
       "    </tr>\n",
       "    <tr>\n",
       "      <th>8</th>\n",
       "      <td>57a02ecb12f1434591e4a066</td>\n",
       "      <td>980</td>\n",
       "      <td>476600.0</td>\n",
       "      <td>1.5</td>\n",
       "      <td>-126.500000</td>\n",
       "      <td>1.470116e+12</td>\n",
       "      <td>38.997730</td>\n",
       "      <td>-104.684275</td>\n",
       "      <td>39.157969</td>\n",
       "      <td>-104.702613</td>\n",
       "    </tr>\n",
       "    <tr>\n",
       "      <th>9</th>\n",
       "      <td>57aed618e541cd77a05c105a</td>\n",
       "      <td>980</td>\n",
       "      <td>476598.0</td>\n",
       "      <td>1.0</td>\n",
       "      <td>-135.000000</td>\n",
       "      <td>1.471076e+12</td>\n",
       "      <td>38.997730</td>\n",
       "      <td>-104.684275</td>\n",
       "      <td>39.043789</td>\n",
       "      <td>-104.466839</td>\n",
       "    </tr>\n",
       "  </tbody>\n",
       "</table>\n",
       "</div>"
      ],
      "text/plain": [
       "                     messid  bsid       did  nseq        rssi       time_ux  \\\n",
       "0  5822597ecf554f7e3a4d60a2   879  477201.0   1.0 -132.666667  1.478646e+12   \n",
       "1  5822df26cf554f7e3aa2e56e   911  474192.0   1.0 -122.000000  1.478680e+12   \n",
       "2  5822df26cf554f7e3aa2e56e   921  474192.0   0.0 -130.000000  1.478680e+12   \n",
       "3  57aae6ad12f1434591dc023d   944  476256.0   1.0 -133.000000  1.470818e+12   \n",
       "4  5835da9ce541cd03e70b29a7   944  476889.0   2.0 -137.000000  1.479924e+12   \n",
       "5  58302f58e541cd03e7edeb7b   944  476896.0   1.0 -122.000000  1.479553e+12   \n",
       "6  57c55354cf554f465aa9941f   980  476598.0   0.5 -128.000000  1.472550e+12   \n",
       "7  57934f3fcf554f22c13640ce   980  476598.0   1.0 -120.000000  1.469272e+12   \n",
       "8  57a02ecb12f1434591e4a066   980  476600.0   1.5 -126.500000  1.470116e+12   \n",
       "9  57aed618e541cd77a05c105a   980  476598.0   1.0 -135.000000  1.471076e+12   \n",
       "\n",
       "      bs_lat      bs_lng        lat         lng  \n",
       "0  39.739013 -105.392793  39.876481 -105.262660  \n",
       "1  42.324279 -107.159505  42.452279 -107.050011  \n",
       "2  42.131222 -107.008741  42.452279 -107.050011  \n",
       "3  41.424900 -106.143919  41.053086 -105.914665  \n",
       "4  41.424900 -106.143919  40.840967 -105.911902  \n",
       "5  41.424900 -106.143919  41.279237 -106.115996  \n",
       "6  38.997730 -104.684275  39.099739 -104.574992  \n",
       "7  38.997730 -104.684275  39.094773 -104.631262  \n",
       "8  38.997730 -104.684275  39.157969 -104.702613  \n",
       "9  38.997730 -104.684275  39.043789 -104.466839  "
      ]
     },
     "execution_count": 29,
     "metadata": {},
     "output_type": "execute_result"
    }
   ],
   "source": [
    "df_train_merged = df_mess_pos_sort.merge(outliers_bsid_df, on='bsid', how='outer')\n",
    "df_train_merged.head(10)"
   ]
  },
  {
   "cell_type": "code",
   "execution_count": 30,
   "metadata": {},
   "outputs": [
    {
     "data": {
      "text/plain": [
       "(39250, 10)"
      ]
     },
     "execution_count": 30,
     "metadata": {},
     "output_type": "execute_result"
    }
   ],
   "source": [
    "df_train_merged.shape"
   ]
  },
  {
   "cell_type": "code",
   "execution_count": null,
   "metadata": {
    "collapsed": true
   },
   "outputs": [],
   "source": []
  },
  {
   "cell_type": "code",
   "execution_count": 20,
   "metadata": {},
   "outputs": [],
   "source": [
    "new_train_pos = df_mess_pos.copy()\n",
    "columns = ['bsid', 'messid', 'did', 'bs_lat', 'bs_lng']\n",
    "new_train_pos.drop(columns, inplace=True, axis=1)\n",
    "y_bs_lat = df_mess_pos['bs_lat']\n",
    "y_bs_lng = df_mess_pos['bs_lng']"
   ]
  },
  {
   "cell_type": "code",
   "execution_count": null,
   "metadata": {},
   "outputs": [],
   "source": []
  },
  {
   "cell_type": "code",
   "execution_count": null,
   "metadata": {
    "collapsed": true
   },
   "outputs": [],
   "source": []
  },
  {
   "cell_type": "code",
   "execution_count": 9,
   "metadata": {},
   "outputs": [
    {
     "data": {
      "text/plain": [
       "(39250, 10)"
      ]
     },
     "execution_count": 9,
     "metadata": {},
     "output_type": "execute_result"
    }
   ],
   "source": [
    "df_mess_pos.shape"
   ]
  },
  {
   "cell_type": "code",
   "execution_count": 27,
   "metadata": {
    "collapsed": true
   },
   "outputs": [],
   "source": [
    "# Sort train dataset by device\n",
    "df_mess_pos_sort = df_mess_pos.copy()\n",
    "df_mess_pos_sort = df_mess_pos_sort.sort_values(by='did', ascending=True)"
   ]
  },
  {
   "cell_type": "code",
   "execution_count": 28,
   "metadata": {
    "collapsed": true
   },
   "outputs": [],
   "source": [
    "# Create the devices list\n",
    "did_list_train = np.unique(df_mess_train['did'])\n",
    "did_list_df = pd.DataFrame(did_list_train)\n",
    "did_list_df.columns = ['did']"
   ]
  },
  {
   "cell_type": "markdown",
   "metadata": {},
   "source": [
    "### Split training set into new train and validation subsets by device"
   ]
  },
  {
   "cell_type": "code",
   "execution_count": 119,
   "metadata": {},
   "outputs": [
    {
     "name": "stdout",
     "output_type": "stream",
     "text": [
      "did_list_train size: 84\n",
      "did_list_test size: 29\n"
     ]
    }
   ],
   "source": [
    "# Split devices into train and validation subsets, shuffle=True\n",
    "did_list_train, did_list_test = model_selection.train_test_split(did_list_df, test_size = 0.25, shuffle=True)\n",
    "did_list_train = did_list_train.sort_values(by='did', ascending=True)\n",
    "did_list_test = did_list_test.sort_values(by='did', ascending=True)\n",
    "print(\"did_list_train size:\", did_list_train.shape[0])\n",
    "print(\"did_list_test size:\", did_list_test.shape[0])"
   ]
  },
  {
   "cell_type": "code",
   "execution_count": 120,
   "metadata": {},
   "outputs": [
    {
     "data": {
      "text/html": [
       "<div>\n",
       "<style scoped>\n",
       "    .dataframe tbody tr th:only-of-type {\n",
       "        vertical-align: middle;\n",
       "    }\n",
       "\n",
       "    .dataframe tbody tr th {\n",
       "        vertical-align: top;\n",
       "    }\n",
       "\n",
       "    .dataframe thead th {\n",
       "        text-align: right;\n",
       "    }\n",
       "</style>\n",
       "<table border=\"1\" class=\"dataframe\">\n",
       "  <thead>\n",
       "    <tr style=\"text-align: right;\">\n",
       "      <th></th>\n",
       "      <th>messid</th>\n",
       "      <th>bsid</th>\n",
       "      <th>did</th>\n",
       "      <th>nseq</th>\n",
       "      <th>rssi</th>\n",
       "      <th>time_ux</th>\n",
       "      <th>bs_lat</th>\n",
       "      <th>bs_lng</th>\n",
       "      <th>lat</th>\n",
       "      <th>lng</th>\n",
       "    </tr>\n",
       "  </thead>\n",
       "  <tbody>\n",
       "    <tr>\n",
       "      <th>0</th>\n",
       "      <td>582ae1d712f1434b9ccad421</td>\n",
       "      <td>2189</td>\n",
       "      <td>473288.0</td>\n",
       "      <td>1.0</td>\n",
       "      <td>-127.000000</td>\n",
       "      <td>1.479205e+12</td>\n",
       "      <td>39.817654</td>\n",
       "      <td>-105.050984</td>\n",
       "      <td>39.774984</td>\n",
       "      <td>-105.039440</td>\n",
       "    </tr>\n",
       "    <tr>\n",
       "      <th>1</th>\n",
       "      <td>582bde7bcf554f7e3a1a7720</td>\n",
       "      <td>3848</td>\n",
       "      <td>473288.0</td>\n",
       "      <td>1.0</td>\n",
       "      <td>-128.666667</td>\n",
       "      <td>1.479270e+12</td>\n",
       "      <td>43.614138</td>\n",
       "      <td>-103.723449</td>\n",
       "      <td>39.774541</td>\n",
       "      <td>-105.039339</td>\n",
       "    </tr>\n",
       "    <tr>\n",
       "      <th>2</th>\n",
       "      <td>582bde7bcf554f7e3a1a7720</td>\n",
       "      <td>3501</td>\n",
       "      <td>473288.0</td>\n",
       "      <td>1.5</td>\n",
       "      <td>-136.000000</td>\n",
       "      <td>1.479270e+12</td>\n",
       "      <td>43.639226</td>\n",
       "      <td>-103.761023</td>\n",
       "      <td>39.774541</td>\n",
       "      <td>-105.039339</td>\n",
       "    </tr>\n",
       "    <tr>\n",
       "      <th>3</th>\n",
       "      <td>582bde7bcf554f7e3a1a7720</td>\n",
       "      <td>2803</td>\n",
       "      <td>473288.0</td>\n",
       "      <td>1.5</td>\n",
       "      <td>-139.500000</td>\n",
       "      <td>1.479270e+12</td>\n",
       "      <td>43.657077</td>\n",
       "      <td>-103.756890</td>\n",
       "      <td>39.774541</td>\n",
       "      <td>-105.039339</td>\n",
       "    </tr>\n",
       "    <tr>\n",
       "      <th>4</th>\n",
       "      <td>582bde7bcf554f7e3a1a7720</td>\n",
       "      <td>2800</td>\n",
       "      <td>473288.0</td>\n",
       "      <td>1.5</td>\n",
       "      <td>-138.000000</td>\n",
       "      <td>1.479270e+12</td>\n",
       "      <td>43.631515</td>\n",
       "      <td>-103.765896</td>\n",
       "      <td>39.774541</td>\n",
       "      <td>-105.039339</td>\n",
       "    </tr>\n",
       "    <tr>\n",
       "      <th>5</th>\n",
       "      <td>582bd926e541cd03e7b48c36</td>\n",
       "      <td>3933</td>\n",
       "      <td>473288.0</td>\n",
       "      <td>2.0</td>\n",
       "      <td>-132.000000</td>\n",
       "      <td>1.479269e+12</td>\n",
       "      <td>43.671528</td>\n",
       "      <td>-103.815822</td>\n",
       "      <td>39.774541</td>\n",
       "      <td>-105.039339</td>\n",
       "    </tr>\n",
       "    <tr>\n",
       "      <th>6</th>\n",
       "      <td>582bd926e541cd03e7b48c36</td>\n",
       "      <td>3848</td>\n",
       "      <td>473288.0</td>\n",
       "      <td>1.0</td>\n",
       "      <td>-128.000000</td>\n",
       "      <td>1.479269e+12</td>\n",
       "      <td>43.614138</td>\n",
       "      <td>-103.723449</td>\n",
       "      <td>39.774541</td>\n",
       "      <td>-105.039339</td>\n",
       "    </tr>\n",
       "    <tr>\n",
       "      <th>7</th>\n",
       "      <td>582bd926e541cd03e7b48c36</td>\n",
       "      <td>3501</td>\n",
       "      <td>473288.0</td>\n",
       "      <td>1.0</td>\n",
       "      <td>-136.000000</td>\n",
       "      <td>1.479269e+12</td>\n",
       "      <td>43.639226</td>\n",
       "      <td>-103.761023</td>\n",
       "      <td>39.774541</td>\n",
       "      <td>-105.039339</td>\n",
       "    </tr>\n",
       "    <tr>\n",
       "      <th>8</th>\n",
       "      <td>582bd926e541cd03e7b48c36</td>\n",
       "      <td>2803</td>\n",
       "      <td>473288.0</td>\n",
       "      <td>0.0</td>\n",
       "      <td>-135.000000</td>\n",
       "      <td>1.479269e+12</td>\n",
       "      <td>43.657077</td>\n",
       "      <td>-103.756890</td>\n",
       "      <td>39.774541</td>\n",
       "      <td>-105.039339</td>\n",
       "    </tr>\n",
       "    <tr>\n",
       "      <th>9</th>\n",
       "      <td>582bd926e541cd03e7b48c36</td>\n",
       "      <td>2800</td>\n",
       "      <td>473288.0</td>\n",
       "      <td>0.0</td>\n",
       "      <td>-137.000000</td>\n",
       "      <td>1.479269e+12</td>\n",
       "      <td>43.631515</td>\n",
       "      <td>-103.765896</td>\n",
       "      <td>39.774541</td>\n",
       "      <td>-105.039339</td>\n",
       "    </tr>\n",
       "  </tbody>\n",
       "</table>\n",
       "</div>"
      ],
      "text/plain": [
       "                     messid  bsid       did  nseq        rssi       time_ux  \\\n",
       "0  582ae1d712f1434b9ccad421  2189  473288.0   1.0 -127.000000  1.479205e+12   \n",
       "1  582bde7bcf554f7e3a1a7720  3848  473288.0   1.0 -128.666667  1.479270e+12   \n",
       "2  582bde7bcf554f7e3a1a7720  3501  473288.0   1.5 -136.000000  1.479270e+12   \n",
       "3  582bde7bcf554f7e3a1a7720  2803  473288.0   1.5 -139.500000  1.479270e+12   \n",
       "4  582bde7bcf554f7e3a1a7720  2800  473288.0   1.5 -138.000000  1.479270e+12   \n",
       "5  582bd926e541cd03e7b48c36  3933  473288.0   2.0 -132.000000  1.479269e+12   \n",
       "6  582bd926e541cd03e7b48c36  3848  473288.0   1.0 -128.000000  1.479269e+12   \n",
       "7  582bd926e541cd03e7b48c36  3501  473288.0   1.0 -136.000000  1.479269e+12   \n",
       "8  582bd926e541cd03e7b48c36  2803  473288.0   0.0 -135.000000  1.479269e+12   \n",
       "9  582bd926e541cd03e7b48c36  2800  473288.0   0.0 -137.000000  1.479269e+12   \n",
       "\n",
       "      bs_lat      bs_lng        lat         lng  \n",
       "0  39.817654 -105.050984  39.774984 -105.039440  \n",
       "1  43.614138 -103.723449  39.774541 -105.039339  \n",
       "2  43.639226 -103.761023  39.774541 -105.039339  \n",
       "3  43.657077 -103.756890  39.774541 -105.039339  \n",
       "4  43.631515 -103.765896  39.774541 -105.039339  \n",
       "5  43.671528 -103.815822  39.774541 -105.039339  \n",
       "6  43.614138 -103.723449  39.774541 -105.039339  \n",
       "7  43.639226 -103.761023  39.774541 -105.039339  \n",
       "8  43.657077 -103.756890  39.774541 -105.039339  \n",
       "9  43.631515 -103.765896  39.774541 -105.039339  "
      ]
     },
     "execution_count": 120,
     "metadata": {},
     "output_type": "execute_result"
    }
   ],
   "source": [
    "# Merge splited devices with full dataset\n",
    "# Train\n",
    "df_train_merged = df_mess_pos_sort.merge(did_list_train, on='did')\n",
    "df_train_merged.head(10)"
   ]
  },
  {
   "cell_type": "code",
   "execution_count": 121,
   "metadata": {},
   "outputs": [
    {
     "data": {
      "text/html": [
       "<div>\n",
       "<style scoped>\n",
       "    .dataframe tbody tr th:only-of-type {\n",
       "        vertical-align: middle;\n",
       "    }\n",
       "\n",
       "    .dataframe tbody tr th {\n",
       "        vertical-align: top;\n",
       "    }\n",
       "\n",
       "    .dataframe thead th {\n",
       "        text-align: right;\n",
       "    }\n",
       "</style>\n",
       "<table border=\"1\" class=\"dataframe\">\n",
       "  <thead>\n",
       "    <tr style=\"text-align: right;\">\n",
       "      <th></th>\n",
       "      <th>messid</th>\n",
       "      <th>bsid</th>\n",
       "      <th>did</th>\n",
       "      <th>nseq</th>\n",
       "      <th>rssi</th>\n",
       "      <th>time_ux</th>\n",
       "      <th>bs_lat</th>\n",
       "      <th>bs_lng</th>\n",
       "      <th>lat</th>\n",
       "      <th>lng</th>\n",
       "    </tr>\n",
       "  </thead>\n",
       "  <tbody>\n",
       "    <tr>\n",
       "      <th>0</th>\n",
       "      <td>57599f09864fce568932b7f5</td>\n",
       "      <td>1859</td>\n",
       "      <td>473805.0</td>\n",
       "      <td>0.0</td>\n",
       "      <td>-129.000000</td>\n",
       "      <td>1.465491e+12</td>\n",
       "      <td>39.704887</td>\n",
       "      <td>-105.016392</td>\n",
       "      <td>39.705300</td>\n",
       "      <td>-104.973442</td>\n",
       "    </tr>\n",
       "    <tr>\n",
       "      <th>1</th>\n",
       "      <td>57599f09864fce568932b7f5</td>\n",
       "      <td>1872</td>\n",
       "      <td>473805.0</td>\n",
       "      <td>0.0</td>\n",
       "      <td>-133.000000</td>\n",
       "      <td>1.465491e+12</td>\n",
       "      <td>39.823856</td>\n",
       "      <td>-105.239120</td>\n",
       "      <td>39.705300</td>\n",
       "      <td>-104.973442</td>\n",
       "    </tr>\n",
       "    <tr>\n",
       "      <th>2</th>\n",
       "      <td>57599f09864fce568932b7f5</td>\n",
       "      <td>2617</td>\n",
       "      <td>473805.0</td>\n",
       "      <td>1.0</td>\n",
       "      <td>-141.333333</td>\n",
       "      <td>1.465491e+12</td>\n",
       "      <td>39.779908</td>\n",
       "      <td>-105.062479</td>\n",
       "      <td>39.705300</td>\n",
       "      <td>-104.973442</td>\n",
       "    </tr>\n",
       "    <tr>\n",
       "      <th>3</th>\n",
       "      <td>57599f09864fce568932b7f5</td>\n",
       "      <td>3548</td>\n",
       "      <td>473805.0</td>\n",
       "      <td>2.0</td>\n",
       "      <td>-134.000000</td>\n",
       "      <td>1.465491e+12</td>\n",
       "      <td>39.744848</td>\n",
       "      <td>-105.010048</td>\n",
       "      <td>39.705300</td>\n",
       "      <td>-104.973442</td>\n",
       "    </tr>\n",
       "    <tr>\n",
       "      <th>4</th>\n",
       "      <td>57599f09864fce568932b7f5</td>\n",
       "      <td>3846</td>\n",
       "      <td>473805.0</td>\n",
       "      <td>2.0</td>\n",
       "      <td>-135.000000</td>\n",
       "      <td>1.465491e+12</td>\n",
       "      <td>39.753719</td>\n",
       "      <td>-104.998668</td>\n",
       "      <td>39.705300</td>\n",
       "      <td>-104.973442</td>\n",
       "    </tr>\n",
       "    <tr>\n",
       "      <th>5</th>\n",
       "      <td>57599f09864fce568932b7f5</td>\n",
       "      <td>8474</td>\n",
       "      <td>473805.0</td>\n",
       "      <td>1.0</td>\n",
       "      <td>-135.000000</td>\n",
       "      <td>1.465491e+12</td>\n",
       "      <td>39.732045</td>\n",
       "      <td>-104.973651</td>\n",
       "      <td>39.705300</td>\n",
       "      <td>-104.973442</td>\n",
       "    </tr>\n",
       "    <tr>\n",
       "      <th>6</th>\n",
       "      <td>5759996af0fe6e0c9f8dc13c</td>\n",
       "      <td>3571</td>\n",
       "      <td>473805.0</td>\n",
       "      <td>0.0</td>\n",
       "      <td>-137.000000</td>\n",
       "      <td>1.465490e+12</td>\n",
       "      <td>39.681876</td>\n",
       "      <td>-104.986868</td>\n",
       "      <td>39.678571</td>\n",
       "      <td>-104.985277</td>\n",
       "    </tr>\n",
       "    <tr>\n",
       "      <th>7</th>\n",
       "      <td>57590c943e952e04b301a3f4</td>\n",
       "      <td>3571</td>\n",
       "      <td>473805.0</td>\n",
       "      <td>1.0</td>\n",
       "      <td>-132.666667</td>\n",
       "      <td>1.465454e+12</td>\n",
       "      <td>39.681876</td>\n",
       "      <td>-104.986868</td>\n",
       "      <td>39.670385</td>\n",
       "      <td>-104.990062</td>\n",
       "    </tr>\n",
       "    <tr>\n",
       "      <th>8</th>\n",
       "      <td>57590c943e952e04b301a3f4</td>\n",
       "      <td>3025</td>\n",
       "      <td>473805.0</td>\n",
       "      <td>0.5</td>\n",
       "      <td>-126.500000</td>\n",
       "      <td>1.465454e+12</td>\n",
       "      <td>39.654682</td>\n",
       "      <td>-105.043685</td>\n",
       "      <td>39.670385</td>\n",
       "      <td>-104.990062</td>\n",
       "    </tr>\n",
       "    <tr>\n",
       "      <th>9</th>\n",
       "      <td>57590c943e952e04b301a3f4</td>\n",
       "      <td>2605</td>\n",
       "      <td>473805.0</td>\n",
       "      <td>2.0</td>\n",
       "      <td>-140.000000</td>\n",
       "      <td>1.465454e+12</td>\n",
       "      <td>39.612745</td>\n",
       "      <td>-105.008827</td>\n",
       "      <td>39.670385</td>\n",
       "      <td>-104.990062</td>\n",
       "    </tr>\n",
       "  </tbody>\n",
       "</table>\n",
       "</div>"
      ],
      "text/plain": [
       "                     messid  bsid       did  nseq        rssi       time_ux  \\\n",
       "0  57599f09864fce568932b7f5  1859  473805.0   0.0 -129.000000  1.465491e+12   \n",
       "1  57599f09864fce568932b7f5  1872  473805.0   0.0 -133.000000  1.465491e+12   \n",
       "2  57599f09864fce568932b7f5  2617  473805.0   1.0 -141.333333  1.465491e+12   \n",
       "3  57599f09864fce568932b7f5  3548  473805.0   2.0 -134.000000  1.465491e+12   \n",
       "4  57599f09864fce568932b7f5  3846  473805.0   2.0 -135.000000  1.465491e+12   \n",
       "5  57599f09864fce568932b7f5  8474  473805.0   1.0 -135.000000  1.465491e+12   \n",
       "6  5759996af0fe6e0c9f8dc13c  3571  473805.0   0.0 -137.000000  1.465490e+12   \n",
       "7  57590c943e952e04b301a3f4  3571  473805.0   1.0 -132.666667  1.465454e+12   \n",
       "8  57590c943e952e04b301a3f4  3025  473805.0   0.5 -126.500000  1.465454e+12   \n",
       "9  57590c943e952e04b301a3f4  2605  473805.0   2.0 -140.000000  1.465454e+12   \n",
       "\n",
       "      bs_lat      bs_lng        lat         lng  \n",
       "0  39.704887 -105.016392  39.705300 -104.973442  \n",
       "1  39.823856 -105.239120  39.705300 -104.973442  \n",
       "2  39.779908 -105.062479  39.705300 -104.973442  \n",
       "3  39.744848 -105.010048  39.705300 -104.973442  \n",
       "4  39.753719 -104.998668  39.705300 -104.973442  \n",
       "5  39.732045 -104.973651  39.705300 -104.973442  \n",
       "6  39.681876 -104.986868  39.678571 -104.985277  \n",
       "7  39.681876 -104.986868  39.670385 -104.990062  \n",
       "8  39.654682 -105.043685  39.670385 -104.990062  \n",
       "9  39.612745 -105.008827  39.670385 -104.990062  "
      ]
     },
     "execution_count": 121,
     "metadata": {},
     "output_type": "execute_result"
    }
   ],
   "source": [
    "# Test\n",
    "df_test_merged = df_mess_pos_sort.merge(did_list_test, on='did')\n",
    "df_test_merged.head(10)"
   ]
  },
  {
   "cell_type": "code",
   "execution_count": 122,
   "metadata": {},
   "outputs": [
    {
     "data": {
      "text/plain": [
       "(24108, 10)"
      ]
     },
     "execution_count": 122,
     "metadata": {},
     "output_type": "execute_result"
    }
   ],
   "source": [
    "df_train_merged.shape"
   ]
  },
  {
   "cell_type": "code",
   "execution_count": 123,
   "metadata": {},
   "outputs": [
    {
     "data": {
      "text/plain": [
       "(15142, 10)"
      ]
     },
     "execution_count": 123,
     "metadata": {},
     "output_type": "execute_result"
    }
   ],
   "source": [
    "df_test_merged.shape"
   ]
  },
  {
   "cell_type": "markdown",
   "metadata": {},
   "source": [
    "### Save splitted data set to CSV"
   ]
  },
  {
   "cell_type": "code",
   "execution_count": 134,
   "metadata": {
    "collapsed": true
   },
   "outputs": [],
   "source": [
    "# Write splitted data set to CSV\n",
    "my_train_file = 'my_train_merged.csv'\n",
    "df_train_merged.to_csv(my_train_file, sep=',', index=False)\n",
    "my_test_file = 'my_test_merged.csv'\n",
    "df_test_merged.to_csv(my_test_file, sep=',', index=False)"
   ]
  },
  {
   "cell_type": "markdown",
   "metadata": {},
   "source": [
    "### Load splitted data from CSV"
   ]
  },
  {
   "cell_type": "code",
   "execution_count": 136,
   "metadata": {
    "collapsed": true
   },
   "outputs": [],
   "source": [
    "# Load data\n",
    "my_train_file = 'my_train_merged.csv'\n",
    "df_train_merged = pd.read_csv(my_train_file, sep = ',')\n",
    "my_test_file = 'my_test_merged.csv'\n",
    "df_test_merged = pd.read_csv(my_test_file, sep = ',')"
   ]
  },
  {
   "cell_type": "markdown",
   "metadata": {},
   "source": [
    "### Feature Matrix construction"
   ]
  },
  {
   "cell_type": "code",
   "execution_count": 38,
   "metadata": {
    "collapsed": true
   },
   "outputs": [],
   "source": [
    "# Feature Matrix construction \n",
    "\n",
    "def feat_mat_const(df_mess_train, listOfBs):\n",
    "\n",
    "    df_mess_bs_group = df_mess_train.groupby(['messid'], as_index=False) # group data by message (messid)\n",
    "    nb_mess = len(np.unique(df_mess_train['messid']))\n",
    "    df_feat = pd.DataFrame(np.zeros((nb_mess,len(listOfBs))), columns = listOfBs) # feature matrix\n",
    "    idx = 0\n",
    "    id_list = [0] * nb_mess\n",
    "\n",
    "    for key, elmt in df_mess_bs_group:\n",
    "        df_mess_bs_group.get_group(key)\n",
    "        df_feat.loc[idx,df_mess_bs_group.get_group(key)['bsid']] = 1\n",
    "        id_list[idx] = key\n",
    "        idx = idx + 1\n",
    "    \n",
    "    return df_feat, id_list # add id value of each message for the correspondance to message  "
   ]
  },
  {
   "cell_type": "code",
   "execution_count": 39,
   "metadata": {
    "collapsed": true
   },
   "outputs": [],
   "source": [
    "# ground truth construction\n",
    "\n",
    "def ground_truth_const(df_mess_train, pos_train):\n",
    "\n",
    "    df_mess_pos = df_mess_train.copy()\n",
    "    df_mess_pos[['lat', 'lng']] = pos_train\n",
    "\n",
    "    ground_truth_lat = np.array(df_mess_pos.groupby(['messid']).mean()['lat'])\n",
    "    ground_truth_lng = np.array(df_mess_pos.groupby(['messid']).mean()['lng'])\n",
    "    \n",
    "    return ground_truth_lat, ground_truth_lng"
   ]
  },
  {
   "cell_type": "code",
   "execution_count": 137,
   "metadata": {},
   "outputs": [
    {
     "data": {
      "text/html": [
       "<div>\n",
       "<style scoped>\n",
       "    .dataframe tbody tr th:only-of-type {\n",
       "        vertical-align: middle;\n",
       "    }\n",
       "\n",
       "    .dataframe tbody tr th {\n",
       "        vertical-align: top;\n",
       "    }\n",
       "\n",
       "    .dataframe thead th {\n",
       "        text-align: right;\n",
       "    }\n",
       "</style>\n",
       "<table border=\"1\" class=\"dataframe\">\n",
       "  <thead>\n",
       "    <tr style=\"text-align: right;\">\n",
       "      <th></th>\n",
       "      <th>879</th>\n",
       "      <th>911</th>\n",
       "      <th>921</th>\n",
       "      <th>944</th>\n",
       "      <th>980</th>\n",
       "      <th>1012</th>\n",
       "      <th>1086</th>\n",
       "      <th>1092</th>\n",
       "      <th>1120</th>\n",
       "      <th>1131</th>\n",
       "      <th>...</th>\n",
       "      <th>9936</th>\n",
       "      <th>9941</th>\n",
       "      <th>9949</th>\n",
       "      <th>10134</th>\n",
       "      <th>10148</th>\n",
       "      <th>10151</th>\n",
       "      <th>10162</th>\n",
       "      <th>10999</th>\n",
       "      <th>11007</th>\n",
       "      <th>11951</th>\n",
       "    </tr>\n",
       "  </thead>\n",
       "  <tbody>\n",
       "    <tr>\n",
       "      <th>0</th>\n",
       "      <td>0.0</td>\n",
       "      <td>0.0</td>\n",
       "      <td>0.0</td>\n",
       "      <td>0.0</td>\n",
       "      <td>0.0</td>\n",
       "      <td>0.0</td>\n",
       "      <td>0.0</td>\n",
       "      <td>0.0</td>\n",
       "      <td>0.0</td>\n",
       "      <td>0.0</td>\n",
       "      <td>...</td>\n",
       "      <td>0.0</td>\n",
       "      <td>0.0</td>\n",
       "      <td>0.0</td>\n",
       "      <td>0.0</td>\n",
       "      <td>0.0</td>\n",
       "      <td>0.0</td>\n",
       "      <td>0.0</td>\n",
       "      <td>0.0</td>\n",
       "      <td>0.0</td>\n",
       "      <td>0.0</td>\n",
       "    </tr>\n",
       "    <tr>\n",
       "      <th>1</th>\n",
       "      <td>0.0</td>\n",
       "      <td>0.0</td>\n",
       "      <td>0.0</td>\n",
       "      <td>0.0</td>\n",
       "      <td>0.0</td>\n",
       "      <td>0.0</td>\n",
       "      <td>0.0</td>\n",
       "      <td>0.0</td>\n",
       "      <td>0.0</td>\n",
       "      <td>0.0</td>\n",
       "      <td>...</td>\n",
       "      <td>0.0</td>\n",
       "      <td>0.0</td>\n",
       "      <td>0.0</td>\n",
       "      <td>0.0</td>\n",
       "      <td>0.0</td>\n",
       "      <td>0.0</td>\n",
       "      <td>0.0</td>\n",
       "      <td>0.0</td>\n",
       "      <td>0.0</td>\n",
       "      <td>0.0</td>\n",
       "    </tr>\n",
       "    <tr>\n",
       "      <th>2</th>\n",
       "      <td>0.0</td>\n",
       "      <td>0.0</td>\n",
       "      <td>0.0</td>\n",
       "      <td>0.0</td>\n",
       "      <td>0.0</td>\n",
       "      <td>0.0</td>\n",
       "      <td>0.0</td>\n",
       "      <td>0.0</td>\n",
       "      <td>0.0</td>\n",
       "      <td>0.0</td>\n",
       "      <td>...</td>\n",
       "      <td>0.0</td>\n",
       "      <td>0.0</td>\n",
       "      <td>0.0</td>\n",
       "      <td>0.0</td>\n",
       "      <td>0.0</td>\n",
       "      <td>0.0</td>\n",
       "      <td>0.0</td>\n",
       "      <td>0.0</td>\n",
       "      <td>0.0</td>\n",
       "      <td>0.0</td>\n",
       "    </tr>\n",
       "    <tr>\n",
       "      <th>3</th>\n",
       "      <td>0.0</td>\n",
       "      <td>0.0</td>\n",
       "      <td>0.0</td>\n",
       "      <td>0.0</td>\n",
       "      <td>0.0</td>\n",
       "      <td>0.0</td>\n",
       "      <td>0.0</td>\n",
       "      <td>0.0</td>\n",
       "      <td>0.0</td>\n",
       "      <td>0.0</td>\n",
       "      <td>...</td>\n",
       "      <td>0.0</td>\n",
       "      <td>0.0</td>\n",
       "      <td>0.0</td>\n",
       "      <td>0.0</td>\n",
       "      <td>0.0</td>\n",
       "      <td>0.0</td>\n",
       "      <td>0.0</td>\n",
       "      <td>0.0</td>\n",
       "      <td>0.0</td>\n",
       "      <td>0.0</td>\n",
       "    </tr>\n",
       "    <tr>\n",
       "      <th>4</th>\n",
       "      <td>0.0</td>\n",
       "      <td>0.0</td>\n",
       "      <td>0.0</td>\n",
       "      <td>0.0</td>\n",
       "      <td>0.0</td>\n",
       "      <td>0.0</td>\n",
       "      <td>0.0</td>\n",
       "      <td>0.0</td>\n",
       "      <td>0.0</td>\n",
       "      <td>0.0</td>\n",
       "      <td>...</td>\n",
       "      <td>0.0</td>\n",
       "      <td>0.0</td>\n",
       "      <td>0.0</td>\n",
       "      <td>0.0</td>\n",
       "      <td>0.0</td>\n",
       "      <td>0.0</td>\n",
       "      <td>0.0</td>\n",
       "      <td>0.0</td>\n",
       "      <td>0.0</td>\n",
       "      <td>0.0</td>\n",
       "    </tr>\n",
       "  </tbody>\n",
       "</table>\n",
       "<p>5 rows × 259 columns</p>\n",
       "</div>"
      ],
      "text/plain": [
       "   879    911    921    944    980    1012   1086   1092   1120   1131   \\\n",
       "0    0.0    0.0    0.0    0.0    0.0    0.0    0.0    0.0    0.0    0.0   \n",
       "1    0.0    0.0    0.0    0.0    0.0    0.0    0.0    0.0    0.0    0.0   \n",
       "2    0.0    0.0    0.0    0.0    0.0    0.0    0.0    0.0    0.0    0.0   \n",
       "3    0.0    0.0    0.0    0.0    0.0    0.0    0.0    0.0    0.0    0.0   \n",
       "4    0.0    0.0    0.0    0.0    0.0    0.0    0.0    0.0    0.0    0.0   \n",
       "\n",
       "   ...    9936   9941   9949   10134  10148  10151  10162  10999  11007  11951  \n",
       "0  ...      0.0    0.0    0.0    0.0    0.0    0.0    0.0    0.0    0.0    0.0  \n",
       "1  ...      0.0    0.0    0.0    0.0    0.0    0.0    0.0    0.0    0.0    0.0  \n",
       "2  ...      0.0    0.0    0.0    0.0    0.0    0.0    0.0    0.0    0.0    0.0  \n",
       "3  ...      0.0    0.0    0.0    0.0    0.0    0.0    0.0    0.0    0.0    0.0  \n",
       "4  ...      0.0    0.0    0.0    0.0    0.0    0.0    0.0    0.0    0.0    0.0  \n",
       "\n",
       "[5 rows x 259 columns]"
      ]
     },
     "execution_count": 137,
     "metadata": {},
     "output_type": "execute_result"
    }
   ],
   "source": [
    "# Generate train features matrix\n",
    "df_feat, id_list_train = feat_mat_const(df_train_merged, listOfBs)\n",
    "df_feat.head()"
   ]
  },
  {
   "cell_type": "code",
   "execution_count": 138,
   "metadata": {},
   "outputs": [
    {
     "data": {
      "text/plain": [
       "(4418, 259)"
      ]
     },
     "execution_count": 138,
     "metadata": {},
     "output_type": "execute_result"
    }
   ],
   "source": [
    "df_feat.shape"
   ]
  },
  {
   "cell_type": "code",
   "execution_count": 139,
   "metadata": {},
   "outputs": [
    {
     "data": {
      "text/plain": [
       "(4418,)"
      ]
     },
     "execution_count": 139,
     "metadata": {},
     "output_type": "execute_result"
    }
   ],
   "source": [
    "new_pos_train = df_train_merged[['lat', 'lng']]\n",
    "gr_truth_lat_train, gr_truth_lng_train = ground_truth_const(df_train_merged, new_pos_train)\n",
    "gr_truth_lat_train.shape"
   ]
  },
  {
   "cell_type": "code",
   "execution_count": 140,
   "metadata": {},
   "outputs": [
    {
     "data": {
      "text/plain": [
       "(1650,)"
      ]
     },
     "execution_count": 140,
     "metadata": {},
     "output_type": "execute_result"
    }
   ],
   "source": [
    "new_pos_test = df_test_merged[['lat', 'lng']]\n",
    "gr_truth_lat_test, gr_truth_lng_test = ground_truth_const(df_test_merged, new_pos_test)\n",
    "gr_truth_lat_test.shape"
   ]
  },
  {
   "cell_type": "code",
   "execution_count": 141,
   "metadata": {},
   "outputs": [
    {
     "data": {
      "text/html": [
       "<div>\n",
       "<style scoped>\n",
       "    .dataframe tbody tr th:only-of-type {\n",
       "        vertical-align: middle;\n",
       "    }\n",
       "\n",
       "    .dataframe tbody tr th {\n",
       "        vertical-align: top;\n",
       "    }\n",
       "\n",
       "    .dataframe thead th {\n",
       "        text-align: right;\n",
       "    }\n",
       "</style>\n",
       "<table border=\"1\" class=\"dataframe\">\n",
       "  <thead>\n",
       "    <tr style=\"text-align: right;\">\n",
       "      <th></th>\n",
       "      <th>879</th>\n",
       "      <th>911</th>\n",
       "      <th>921</th>\n",
       "      <th>944</th>\n",
       "      <th>980</th>\n",
       "      <th>1012</th>\n",
       "      <th>1086</th>\n",
       "      <th>1092</th>\n",
       "      <th>1120</th>\n",
       "      <th>1131</th>\n",
       "      <th>...</th>\n",
       "      <th>9936</th>\n",
       "      <th>9941</th>\n",
       "      <th>9949</th>\n",
       "      <th>10134</th>\n",
       "      <th>10148</th>\n",
       "      <th>10151</th>\n",
       "      <th>10162</th>\n",
       "      <th>10999</th>\n",
       "      <th>11007</th>\n",
       "      <th>11951</th>\n",
       "    </tr>\n",
       "  </thead>\n",
       "  <tbody>\n",
       "    <tr>\n",
       "      <th>0</th>\n",
       "      <td>0.0</td>\n",
       "      <td>0.0</td>\n",
       "      <td>0.0</td>\n",
       "      <td>0.0</td>\n",
       "      <td>0.0</td>\n",
       "      <td>0.0</td>\n",
       "      <td>1.0</td>\n",
       "      <td>0.0</td>\n",
       "      <td>0.0</td>\n",
       "      <td>0.0</td>\n",
       "      <td>...</td>\n",
       "      <td>0.0</td>\n",
       "      <td>0.0</td>\n",
       "      <td>0.0</td>\n",
       "      <td>0.0</td>\n",
       "      <td>0.0</td>\n",
       "      <td>0.0</td>\n",
       "      <td>0.0</td>\n",
       "      <td>0.0</td>\n",
       "      <td>0.0</td>\n",
       "      <td>0.0</td>\n",
       "    </tr>\n",
       "    <tr>\n",
       "      <th>1</th>\n",
       "      <td>0.0</td>\n",
       "      <td>0.0</td>\n",
       "      <td>0.0</td>\n",
       "      <td>0.0</td>\n",
       "      <td>0.0</td>\n",
       "      <td>0.0</td>\n",
       "      <td>0.0</td>\n",
       "      <td>0.0</td>\n",
       "      <td>0.0</td>\n",
       "      <td>0.0</td>\n",
       "      <td>...</td>\n",
       "      <td>0.0</td>\n",
       "      <td>0.0</td>\n",
       "      <td>0.0</td>\n",
       "      <td>0.0</td>\n",
       "      <td>0.0</td>\n",
       "      <td>0.0</td>\n",
       "      <td>0.0</td>\n",
       "      <td>0.0</td>\n",
       "      <td>0.0</td>\n",
       "      <td>0.0</td>\n",
       "    </tr>\n",
       "    <tr>\n",
       "      <th>2</th>\n",
       "      <td>0.0</td>\n",
       "      <td>0.0</td>\n",
       "      <td>0.0</td>\n",
       "      <td>0.0</td>\n",
       "      <td>0.0</td>\n",
       "      <td>0.0</td>\n",
       "      <td>0.0</td>\n",
       "      <td>0.0</td>\n",
       "      <td>0.0</td>\n",
       "      <td>0.0</td>\n",
       "      <td>...</td>\n",
       "      <td>0.0</td>\n",
       "      <td>0.0</td>\n",
       "      <td>0.0</td>\n",
       "      <td>0.0</td>\n",
       "      <td>0.0</td>\n",
       "      <td>0.0</td>\n",
       "      <td>0.0</td>\n",
       "      <td>0.0</td>\n",
       "      <td>0.0</td>\n",
       "      <td>0.0</td>\n",
       "    </tr>\n",
       "    <tr>\n",
       "      <th>3</th>\n",
       "      <td>0.0</td>\n",
       "      <td>0.0</td>\n",
       "      <td>0.0</td>\n",
       "      <td>0.0</td>\n",
       "      <td>0.0</td>\n",
       "      <td>0.0</td>\n",
       "      <td>0.0</td>\n",
       "      <td>0.0</td>\n",
       "      <td>0.0</td>\n",
       "      <td>0.0</td>\n",
       "      <td>...</td>\n",
       "      <td>0.0</td>\n",
       "      <td>0.0</td>\n",
       "      <td>0.0</td>\n",
       "      <td>0.0</td>\n",
       "      <td>0.0</td>\n",
       "      <td>0.0</td>\n",
       "      <td>0.0</td>\n",
       "      <td>0.0</td>\n",
       "      <td>0.0</td>\n",
       "      <td>0.0</td>\n",
       "    </tr>\n",
       "    <tr>\n",
       "      <th>4</th>\n",
       "      <td>0.0</td>\n",
       "      <td>0.0</td>\n",
       "      <td>0.0</td>\n",
       "      <td>0.0</td>\n",
       "      <td>0.0</td>\n",
       "      <td>0.0</td>\n",
       "      <td>0.0</td>\n",
       "      <td>0.0</td>\n",
       "      <td>0.0</td>\n",
       "      <td>0.0</td>\n",
       "      <td>...</td>\n",
       "      <td>0.0</td>\n",
       "      <td>0.0</td>\n",
       "      <td>0.0</td>\n",
       "      <td>0.0</td>\n",
       "      <td>0.0</td>\n",
       "      <td>0.0</td>\n",
       "      <td>0.0</td>\n",
       "      <td>0.0</td>\n",
       "      <td>0.0</td>\n",
       "      <td>0.0</td>\n",
       "    </tr>\n",
       "  </tbody>\n",
       "</table>\n",
       "<p>5 rows × 259 columns</p>\n",
       "</div>"
      ],
      "text/plain": [
       "   879    911    921    944    980    1012   1086   1092   1120   1131   \\\n",
       "0    0.0    0.0    0.0    0.0    0.0    0.0    1.0    0.0    0.0    0.0   \n",
       "1    0.0    0.0    0.0    0.0    0.0    0.0    0.0    0.0    0.0    0.0   \n",
       "2    0.0    0.0    0.0    0.0    0.0    0.0    0.0    0.0    0.0    0.0   \n",
       "3    0.0    0.0    0.0    0.0    0.0    0.0    0.0    0.0    0.0    0.0   \n",
       "4    0.0    0.0    0.0    0.0    0.0    0.0    0.0    0.0    0.0    0.0   \n",
       "\n",
       "   ...    9936   9941   9949   10134  10148  10151  10162  10999  11007  11951  \n",
       "0  ...      0.0    0.0    0.0    0.0    0.0    0.0    0.0    0.0    0.0    0.0  \n",
       "1  ...      0.0    0.0    0.0    0.0    0.0    0.0    0.0    0.0    0.0    0.0  \n",
       "2  ...      0.0    0.0    0.0    0.0    0.0    0.0    0.0    0.0    0.0    0.0  \n",
       "3  ...      0.0    0.0    0.0    0.0    0.0    0.0    0.0    0.0    0.0    0.0  \n",
       "4  ...      0.0    0.0    0.0    0.0    0.0    0.0    0.0    0.0    0.0    0.0  \n",
       "\n",
       "[5 rows x 259 columns]"
      ]
     },
     "execution_count": 141,
     "metadata": {},
     "output_type": "execute_result"
    }
   ],
   "source": [
    "# Generate test features matrix\n",
    "df_feat_test, id_list_test = feat_mat_const(df_test_merged, listOfBs)\n",
    "df_feat_test.head()"
   ]
  },
  {
   "cell_type": "markdown",
   "metadata": {
    "collapsed": true
   },
   "source": [
    "### Model and Prediction"
   ]
  },
  {
   "cell_type": "code",
   "execution_count": 129,
   "metadata": {
    "collapsed": true
   },
   "outputs": [],
   "source": [
    "def regressor_and_predict(df_feat, gr_truth_lat_train, gr_truth_lng_train, df_test, gr_truth_lat_test, gr_truth_lng_test):\n",
    "    \n",
    "    # train regressor and make prediction in the train set\n",
    "    # Input: df_feat, ground_truth_lat, ground_truth_lng, df_test\n",
    "    # Output: y_pred_lat, y_pred_lng\n",
    "\n",
    "    from sklearn import linear_model\n",
    "\n",
    "    X_train = np.array(df_feat);\n",
    "    X_test = np.array(df_test);\n",
    "    #reg = linear_model.LinearRegression()\n",
    "    #reg = RandomForestRegressor(random_state=2792)\n",
    "    reg = ExtraTreesRegressor()\n",
    "\n",
    "    reg.fit(X_train, gr_truth_lat_train);\n",
    "    y_pred_lat = reg.predict(df_test) \n",
    "    print(\"Latitude Accuracy :\", reg.score(X_test, gr_truth_lat_test))\n",
    "    importances(reg, df_feat, \"Latitude Features utilisée\")\n",
    "\n",
    "    reg.fit(X_train, gr_truth_lng_train);\n",
    "    y_pred_lng = reg.predict(df_test) \n",
    "    print(\"Longitude Accuracy :\", reg.score(X_test, gr_truth_lng_test))\n",
    "    importances(reg, df_feat, \"Longitude Features utilisée\")\n",
    "    \n",
    "    return y_pred_lat, y_pred_lng\n"
   ]
  },
  {
   "cell_type": "markdown",
   "metadata": {
    "collapsed": true
   },
   "source": [
    "**Make regressor and prediction using the validation test set**"
   ]
  },
  {
   "cell_type": "code",
   "execution_count": 142,
   "metadata": {},
   "outputs": [
    {
     "name": "stdout",
     "output_type": "stream",
     "text": [
      "Latitude Accuracy : 0.49969684423805183\n",
      "Top Important Features\n",
      " Latitude Features utilisée\n",
      "1. 4790 (0.621018)\n",
      "2. 3613 (0.073476)\n",
      "3. 1828 (0.060991)\n",
      "4. 1526 (0.035367)\n",
      "5. 1534 (0.027699)\n",
      "6. 3629 (0.024533)\n",
      "7. 2831 (0.022457)\n",
      "8. 7807 (0.017674)\n",
      "9. 1852 (0.009137)\n",
      "10. 7490 (0.008842)\n",
      "\n",
      "Mean Feature Importance  0.0038610038610038607\n"
     ]
    },
    {
     "data": {
      "image/png": "[encoded data removed]",
      "text/plain": [
       "<Figure size 576x396 with 1 Axes>"
      ]
     },
     "metadata": {},
     "output_type": "display_data"
    },
    {
     "name": "stdout",
     "output_type": "stream",
     "text": [
      "Longitude Accuracy : 0.369534649900607\n",
      "Top Important Features\n",
      " Longitude Features utilisée\n",
      "1. 4790 (0.643102)\n",
      "2. 3613 (0.074047)\n",
      "3. 1828 (0.056590)\n",
      "4. 2831 (0.025410)\n",
      "5. 1534 (0.024111)\n",
      "6. 7490 (0.021757)\n",
      "7. 3629 (0.020204)\n",
      "8. 7807 (0.016805)\n",
      "9. 1526 (0.014505)\n",
      "10. 8392 (0.008009)\n",
      "\n",
      "Mean Feature Importance  0.003861003861003861\n"
     ]
    },
    {
     "data": {
      "image/png": "[encoded data removed]",
      "text/plain": [
       "<Figure size 576x396 with 1 Axes>"
      ]
     },
     "metadata": {},
     "output_type": "display_data"
    }
   ],
   "source": [
    "y_pred_lat, y_pred_lng = regressor_and_predict(df_feat, gr_truth_lat_train, gr_truth_lng_train, \n",
    "                                               df_feat_test, gr_truth_lat_test, gr_truth_lng_test)"
   ]
  },
  {
   "cell_type": "markdown",
   "metadata": {
    "collapsed": true
   },
   "source": [
    "### Cross validation"
   ]
  },
  {
   "cell_type": "code",
   "execution_count": 18,
   "metadata": {
    "collapsed": true
   },
   "outputs": [],
   "source": [
    "from sklearn.model_selection import cross_val_predict"
   ]
  },
  {
   "cell_type": "code",
   "execution_count": 19,
   "metadata": {
    "collapsed": true
   },
   "outputs": [],
   "source": [
    "from sklearn import linear_model\n",
    "reg = linear_model.LinearRegression()\n",
    "y_pred_cv_lng = cross_val_predict(reg, df_feat, ground_truth_lng, cv=10)\n",
    "y_pred_cv_lat = cross_val_predict(reg, df_feat, ground_truth_lat, cv=10)"
   ]
  },
  {
   "cell_type": "code",
   "execution_count": null,
   "metadata": {
    "collapsed": true
   },
   "outputs": [],
   "source": []
  },
  {
   "cell_type": "markdown",
   "metadata": {
    "collapsed": true
   },
   "source": [
    "### Evaluate result"
   ]
  },
  {
   "cell_type": "code",
   "execution_count": 58,
   "metadata": {
    "collapsed": true
   },
   "outputs": [],
   "source": [
    "def vincenty_vec(vec_coord):\n",
    "    vin_vec_dist = np.zeros(vec_coord.shape[0])\n",
    "    if vec_coord.shape[1] !=  4:\n",
    "        print('ERROR: Bad number of columns (shall be = 4)')\n",
    "    else:\n",
    "        vin_vec_dist = [vincenty(vec_coord[m,0:2],vec_coord[m,2:]).meters for m in range(vec_coord.shape[0])]\n",
    "    return vin_vec_dist"
   ]
  },
  {
   "cell_type": "code",
   "execution_count": 59,
   "metadata": {
    "collapsed": true
   },
   "outputs": [],
   "source": [
    "# evaluate distance error for each predicted point\n",
    "def Eval_geoloc(y_train_lat , y_train_lng, y_pred_lat, y_pred_lng):\n",
    "    vec_coord = np.array([y_train_lat , y_train_lng, y_pred_lat, y_pred_lng])\n",
    "    err_vec = vincenty_vec(np.transpose(vec_coord))\n",
    "    \n",
    "    return err_vec"
   ]
  },
  {
   "cell_type": "markdown",
   "metadata": {},
   "source": [
    "**Errors calculation**"
   ]
  },
  {
   "cell_type": "code",
   "execution_count": 143,
   "metadata": {
    "collapsed": true
   },
   "outputs": [],
   "source": [
    "err_vec = Eval_geoloc(gr_truth_lat_test , gr_truth_lng_test, y_pred_lat, y_pred_lng)"
   ]
  },
  {
   "cell_type": "code",
   "execution_count": null,
   "metadata": {
    "collapsed": true
   },
   "outputs": [],
   "source": []
  },
  {
   "cell_type": "markdown",
   "metadata": {
    "collapsed": true
   },
   "source": [
    "**Plot error distribution**"
   ]
  },
  {
   "cell_type": "code",
   "execution_count": 144,
   "metadata": {},
   "outputs": [
    {
     "data": {
      "text/plain": [
       "<matplotlib.legend.Legend at 0x27592e9bda0>"
      ]
     },
     "execution_count": 144,
     "metadata": {},
     "output_type": "execute_result"
    },
    {
     "data": {
      "image/png": "[encoded data removed]",
      "text/plain": [
       "<Figure size 576x396 with 1 Axes>"
      ]
     },
     "metadata": {},
     "output_type": "display_data"
    }
   ],
   "source": [
    "values, base = np.histogram(err_vec, bins=50000)\n",
    "cumulative = np.cumsum(values) \n",
    "plt.figure();\n",
    "plt.plot(base[:-1]/1000, cumulative / np.float(np.sum(values))  * 100.0, c='blue')\n",
    "plt.grid(); plt.xlabel('Distance Error (km)'); plt.ylabel('Cum proba (%)'); plt.axis([0, 30, 0, 100]); \n",
    "plt.title('Error Cumulative Probability'); plt.legend( [\"Opt LLR\", \"LLR 95\", \"LLR 99\"])"
   ]
  },
  {
   "cell_type": "markdown",
   "metadata": {},
   "source": [
    "**Error criterion**"
   ]
  },
  {
   "cell_type": "code",
   "execution_count": 145,
   "metadata": {},
   "outputs": [
    {
     "data": {
      "text/plain": [
       "4890.162205767973"
      ]
     },
     "execution_count": 145,
     "metadata": {},
     "output_type": "execute_result"
    }
   ],
   "source": [
    "# Error criterion\n",
    "np.percentile(err_vec, 80)"
   ]
  },
  {
   "cell_type": "code",
   "execution_count": null,
   "metadata": {
    "collapsed": true
   },
   "outputs": [],
   "source": []
  },
  {
   "cell_type": "markdown",
   "metadata": {
    "collapsed": true
   },
   "source": [
    "### Construct test prediction"
   ]
  },
  {
   "cell_type": "code",
   "execution_count": 26,
   "metadata": {},
   "outputs": [
    {
     "data": {
      "text/html": [
       "<div>\n",
       "<style scoped>\n",
       "    .dataframe tbody tr th:only-of-type {\n",
       "        vertical-align: middle;\n",
       "    }\n",
       "\n",
       "    .dataframe tbody tr th {\n",
       "        vertical-align: top;\n",
       "    }\n",
       "\n",
       "    .dataframe thead th {\n",
       "        text-align: right;\n",
       "    }\n",
       "</style>\n",
       "<table border=\"1\" class=\"dataframe\">\n",
       "  <thead>\n",
       "    <tr style=\"text-align: right;\">\n",
       "      <th></th>\n",
       "      <th>messid</th>\n",
       "      <th>bsid</th>\n",
       "      <th>did</th>\n",
       "      <th>nseq</th>\n",
       "      <th>rssi</th>\n",
       "      <th>time_ux</th>\n",
       "      <th>bs_lat</th>\n",
       "      <th>bs_lng</th>\n",
       "    </tr>\n",
       "  </thead>\n",
       "  <tbody>\n",
       "    <tr>\n",
       "      <th>0</th>\n",
       "      <td>573be2503e952e191262c351</td>\n",
       "      <td>3578</td>\n",
       "      <td>116539.0</td>\n",
       "      <td>2.0</td>\n",
       "      <td>-111.0</td>\n",
       "      <td>1.463542e+12</td>\n",
       "      <td>39.728651</td>\n",
       "      <td>-105.163032</td>\n",
       "    </tr>\n",
       "    <tr>\n",
       "      <th>1</th>\n",
       "      <td>573c05f83e952e1912758013</td>\n",
       "      <td>2617</td>\n",
       "      <td>472504.0</td>\n",
       "      <td>0.0</td>\n",
       "      <td>-136.0</td>\n",
       "      <td>1.463551e+12</td>\n",
       "      <td>39.779908</td>\n",
       "      <td>-105.062479</td>\n",
       "    </tr>\n",
       "    <tr>\n",
       "      <th>2</th>\n",
       "      <td>573c05f83e952e1912758013</td>\n",
       "      <td>3556</td>\n",
       "      <td>472504.0</td>\n",
       "      <td>0.0</td>\n",
       "      <td>-127.0</td>\n",
       "      <td>1.463551e+12</td>\n",
       "      <td>39.780658</td>\n",
       "      <td>-105.053676</td>\n",
       "    </tr>\n",
       "    <tr>\n",
       "      <th>3</th>\n",
       "      <td>573c05f83e952e1912758013</td>\n",
       "      <td>3578</td>\n",
       "      <td>472504.0</td>\n",
       "      <td>0.0</td>\n",
       "      <td>-129.0</td>\n",
       "      <td>1.463551e+12</td>\n",
       "      <td>39.728651</td>\n",
       "      <td>-105.163032</td>\n",
       "    </tr>\n",
       "    <tr>\n",
       "      <th>4</th>\n",
       "      <td>573c05f83e952e1912758013</td>\n",
       "      <td>4058</td>\n",
       "      <td>472504.0</td>\n",
       "      <td>0.0</td>\n",
       "      <td>-105.0</td>\n",
       "      <td>1.463551e+12</td>\n",
       "      <td>39.783211</td>\n",
       "      <td>-105.088747</td>\n",
       "    </tr>\n",
       "  </tbody>\n",
       "</table>\n",
       "</div>"
      ],
      "text/plain": [
       "                     messid  bsid       did  nseq   rssi       time_ux  \\\n",
       "0  573be2503e952e191262c351  3578  116539.0   2.0 -111.0  1.463542e+12   \n",
       "1  573c05f83e952e1912758013  2617  472504.0   0.0 -136.0  1.463551e+12   \n",
       "2  573c05f83e952e1912758013  3556  472504.0   0.0 -127.0  1.463551e+12   \n",
       "3  573c05f83e952e1912758013  3578  472504.0   0.0 -129.0  1.463551e+12   \n",
       "4  573c05f83e952e1912758013  4058  472504.0   0.0 -105.0  1.463551e+12   \n",
       "\n",
       "      bs_lat      bs_lng  \n",
       "0  39.728651 -105.163032  \n",
       "1  39.779908 -105.062479  \n",
       "2  39.780658 -105.053676  \n",
       "3  39.728651 -105.163032  \n",
       "4  39.783211 -105.088747  "
      ]
     },
     "execution_count": 26,
     "metadata": {},
     "output_type": "execute_result"
    }
   ],
   "source": [
    "df_mess_test.head()"
   ]
  },
  {
   "cell_type": "code",
   "execution_count": 27,
   "metadata": {
    "collapsed": true
   },
   "outputs": [],
   "source": [
    "df_feat_test, id_list_test = feat_mat_const(df_mess_test, listOfBs)"
   ]
  },
  {
   "cell_type": "code",
   "execution_count": 28,
   "metadata": {
    "collapsed": true
   },
   "outputs": [],
   "source": [
    "y_pred_lat, y_pred_lng = regressor_and_predict(df_feat, ground_truth_lat, ground_truth_lng, df_feat_test)"
   ]
  },
  {
   "cell_type": "code",
   "execution_count": 29,
   "metadata": {
    "collapsed": true
   },
   "outputs": [],
   "source": [
    "test_res = pd.DataFrame(np.array([y_pred_lat, y_pred_lng]).T, columns = ['lat', 'lng'])\n",
    "test_res['messid'] = id_list_test"
   ]
  },
  {
   "cell_type": "code",
   "execution_count": 31,
   "metadata": {
    "collapsed": true
   },
   "outputs": [],
   "source": [
    "test_res.to_csv('pred_pos_test_list.csv', index=False)"
   ]
  },
  {
   "cell_type": "code",
   "execution_count": 32,
   "metadata": {},
   "outputs": [
    {
     "data": {
      "text/html": [
       "<div>\n",
       "<style scoped>\n",
       "    .dataframe tbody tr th:only-of-type {\n",
       "        vertical-align: middle;\n",
       "    }\n",
       "\n",
       "    .dataframe tbody tr th {\n",
       "        vertical-align: top;\n",
       "    }\n",
       "\n",
       "    .dataframe thead th {\n",
       "        text-align: right;\n",
       "    }\n",
       "</style>\n",
       "<table border=\"1\" class=\"dataframe\">\n",
       "  <thead>\n",
       "    <tr style=\"text-align: right;\">\n",
       "      <th></th>\n",
       "      <th>lat</th>\n",
       "      <th>lng</th>\n",
       "      <th>messid</th>\n",
       "    </tr>\n",
       "  </thead>\n",
       "  <tbody>\n",
       "    <tr>\n",
       "      <th>0</th>\n",
       "      <td>39.772618</td>\n",
       "      <td>-105.050029</td>\n",
       "      <td>573be2503e952e191262c351</td>\n",
       "    </tr>\n",
       "    <tr>\n",
       "      <th>1</th>\n",
       "      <td>39.775792</td>\n",
       "      <td>-105.063594</td>\n",
       "      <td>573c05f83e952e1912758013</td>\n",
       "    </tr>\n",
       "    <tr>\n",
       "      <th>2</th>\n",
       "      <td>39.678112</td>\n",
       "      <td>-105.012249</td>\n",
       "      <td>573c0796f0fe6e735a66deb3</td>\n",
       "    </tr>\n",
       "    <tr>\n",
       "      <th>3</th>\n",
       "      <td>39.773777</td>\n",
       "      <td>-105.037761</td>\n",
       "      <td>573c08d2864fce1a9a0563bc</td>\n",
       "    </tr>\n",
       "    <tr>\n",
       "      <th>4</th>\n",
       "      <td>39.678112</td>\n",
       "      <td>-105.012249</td>\n",
       "      <td>573c08ff864fce1a9a0579b0</td>\n",
       "    </tr>\n",
       "  </tbody>\n",
       "</table>\n",
       "</div>"
      ],
      "text/plain": [
       "         lat         lng                    messid\n",
       "0  39.772618 -105.050029  573be2503e952e191262c351\n",
       "1  39.775792 -105.063594  573c05f83e952e1912758013\n",
       "2  39.678112 -105.012249  573c0796f0fe6e735a66deb3\n",
       "3  39.773777 -105.037761  573c08d2864fce1a9a0563bc\n",
       "4  39.678112 -105.012249  573c08ff864fce1a9a0579b0"
      ]
     },
     "execution_count": 32,
     "metadata": {},
     "output_type": "execute_result"
    }
   ],
   "source": [
    "test_res.head()"
   ]
  },
  {
   "cell_type": "code",
   "execution_count": null,
   "metadata": {
    "collapsed": true
   },
   "outputs": [],
   "source": []
  }
 ],
 "metadata": {
  "kernelspec": {
   "display_name": "Python 3",
   "language": "python",
   "name": "python3"
  },
  "language_info": {
   "codemirror_mode": {
    "name": "ipython",
    "version": 3
   },
   "file_extension": ".py",
   "mimetype": "text/x-python",
   "name": "python",
   "nbconvert_exporter": "python",
   "pygments_lexer": "ipython3",
   "version": "3.6.7"
  },
  "varInspector": {
   "cols": {
    "lenName": 16,
    "lenType": 16,
    "lenVar": 40
   },
   "kernels_config": {
    "python": {
     "delete_cmd_postfix": "",
     "delete_cmd_prefix": "del ",
     "library": "var_list.py",
     "varRefreshCmd": "print(var_dic_list())"
    },
    "r": {
     "delete_cmd_postfix": ") ",
     "delete_cmd_prefix": "rm(",
     "library": "var_list.r",
     "varRefreshCmd": "cat(var_dic_list()) "
    }
   },
   "types_to_exclude": [
    "module",
    "function",
    "builtin_function_or_method",
    "instance",
    "_Feature"
   ],
   "window_display": false
  }
 },
 "nbformat": 4,
 "nbformat_minor": 1
}
